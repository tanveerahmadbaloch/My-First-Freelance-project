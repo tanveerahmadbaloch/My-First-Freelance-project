{
  "cells": [
    {
      "cell_type": "code",
      "execution_count": 15,
      "metadata": {
        "id": "_oUoICRlbmSI"
      },
      "outputs": [],
      "source": [
        "import pandas as pd\n",
        "import seaborn as sns\n"
      ]
    },
    {
      "cell_type": "code",
      "execution_count": 16,
      "metadata": {
        "id": "GGj9DalkcutY"
      },
      "outputs": [],
      "source": [
        "path='/content/Data Set- Inc5000 Company List_2014.csv'\n",
        "df=pd.read_csv(path)"
      ]
    },
    {
      "cell_type": "code",
      "source": [
        "df.head(2)"
      ],
      "metadata": {
        "id": "e5Yc3_JYdqHt",
        "colab": {
          "base_uri": "https://localhost:8080/",
          "height": 263
        },
        "outputId": "e30ed875-0f46-4058-876b-c78f210149bc"
      },
      "execution_count": 17,
      "outputs": [
        {
          "output_type": "execute_result",
          "data": {
            "text/plain": [
              "   _input  _num           _widgetName               _source  _resultNumber  \\\n",
              "0     NaN     1  Inc5000 Company List  Inc5000 Company List              1   \n",
              "1     NaN     2  Inc5000 Company List  Inc5000 Company List              2   \n",
              "\n",
              "                                            _pageUrl     id  rank  workers  \\\n",
              "0  http://www.inc.com/inc5000list/json/inc5000_20...  22890     1      227   \n",
              "1  http://www.inc.com/inc5000list/json/inc5000_20...  25747     2      191   \n",
              "\n",
              "           company              url     state_l state_s        city  \\\n",
              "0             Fuhu             fuhu  California      CA  El Segundo   \n",
              "1  Quest Nutrition  quest-nutrition  California      CA  El Segundo   \n",
              "\n",
              "         metro       growth    revenue                      industry  \\\n",
              "0  Los Angeles  158956.9106  195640000  Consumer Products & Services   \n",
              "1  Los Angeles   57347.9246   82640563               Food & Beverage   \n",
              "\n",
              "   yrs_on_list  \n",
              "0            2  \n",
              "1            1  "
            ],
            "text/html": [
              "\n",
              "  <div id=\"df-5fb61c1e-8572-4d30-9785-7adb3b97d888\">\n",
              "    <div class=\"colab-df-container\">\n",
              "      <div>\n",
              "<style scoped>\n",
              "    .dataframe tbody tr th:only-of-type {\n",
              "        vertical-align: middle;\n",
              "    }\n",
              "\n",
              "    .dataframe tbody tr th {\n",
              "        vertical-align: top;\n",
              "    }\n",
              "\n",
              "    .dataframe thead th {\n",
              "        text-align: right;\n",
              "    }\n",
              "</style>\n",
              "<table border=\"1\" class=\"dataframe\">\n",
              "  <thead>\n",
              "    <tr style=\"text-align: right;\">\n",
              "      <th></th>\n",
              "      <th>_input</th>\n",
              "      <th>_num</th>\n",
              "      <th>_widgetName</th>\n",
              "      <th>_source</th>\n",
              "      <th>_resultNumber</th>\n",
              "      <th>_pageUrl</th>\n",
              "      <th>id</th>\n",
              "      <th>rank</th>\n",
              "      <th>workers</th>\n",
              "      <th>company</th>\n",
              "      <th>url</th>\n",
              "      <th>state_l</th>\n",
              "      <th>state_s</th>\n",
              "      <th>city</th>\n",
              "      <th>metro</th>\n",
              "      <th>growth</th>\n",
              "      <th>revenue</th>\n",
              "      <th>industry</th>\n",
              "      <th>yrs_on_list</th>\n",
              "    </tr>\n",
              "  </thead>\n",
              "  <tbody>\n",
              "    <tr>\n",
              "      <th>0</th>\n",
              "      <td>NaN</td>\n",
              "      <td>1</td>\n",
              "      <td>Inc5000 Company List</td>\n",
              "      <td>Inc5000 Company List</td>\n",
              "      <td>1</td>\n",
              "      <td>http://www.inc.com/inc5000list/json/inc5000_20...</td>\n",
              "      <td>22890</td>\n",
              "      <td>1</td>\n",
              "      <td>227</td>\n",
              "      <td>Fuhu</td>\n",
              "      <td>fuhu</td>\n",
              "      <td>California</td>\n",
              "      <td>CA</td>\n",
              "      <td>El Segundo</td>\n",
              "      <td>Los Angeles</td>\n",
              "      <td>158956.9106</td>\n",
              "      <td>195640000</td>\n",
              "      <td>Consumer Products &amp; Services</td>\n",
              "      <td>2</td>\n",
              "    </tr>\n",
              "    <tr>\n",
              "      <th>1</th>\n",
              "      <td>NaN</td>\n",
              "      <td>2</td>\n",
              "      <td>Inc5000 Company List</td>\n",
              "      <td>Inc5000 Company List</td>\n",
              "      <td>2</td>\n",
              "      <td>http://www.inc.com/inc5000list/json/inc5000_20...</td>\n",
              "      <td>25747</td>\n",
              "      <td>2</td>\n",
              "      <td>191</td>\n",
              "      <td>Quest Nutrition</td>\n",
              "      <td>quest-nutrition</td>\n",
              "      <td>California</td>\n",
              "      <td>CA</td>\n",
              "      <td>El Segundo</td>\n",
              "      <td>Los Angeles</td>\n",
              "      <td>57347.9246</td>\n",
              "      <td>82640563</td>\n",
              "      <td>Food &amp; Beverage</td>\n",
              "      <td>1</td>\n",
              "    </tr>\n",
              "  </tbody>\n",
              "</table>\n",
              "</div>\n",
              "      <button class=\"colab-df-convert\" onclick=\"convertToInteractive('df-5fb61c1e-8572-4d30-9785-7adb3b97d888')\"\n",
              "              title=\"Convert this dataframe to an interactive table.\"\n",
              "              style=\"display:none;\">\n",
              "        \n",
              "  <svg xmlns=\"http://www.w3.org/2000/svg\" height=\"24px\"viewBox=\"0 0 24 24\"\n",
              "       width=\"24px\">\n",
              "    <path d=\"M0 0h24v24H0V0z\" fill=\"none\"/>\n",
              "    <path d=\"M18.56 5.44l.94 2.06.94-2.06 2.06-.94-2.06-.94-.94-2.06-.94 2.06-2.06.94zm-11 1L8.5 8.5l.94-2.06 2.06-.94-2.06-.94L8.5 2.5l-.94 2.06-2.06.94zm10 10l.94 2.06.94-2.06 2.06-.94-2.06-.94-.94-2.06-.94 2.06-2.06.94z\"/><path d=\"M17.41 7.96l-1.37-1.37c-.4-.4-.92-.59-1.43-.59-.52 0-1.04.2-1.43.59L10.3 9.45l-7.72 7.72c-.78.78-.78 2.05 0 2.83L4 21.41c.39.39.9.59 1.41.59.51 0 1.02-.2 1.41-.59l7.78-7.78 2.81-2.81c.8-.78.8-2.07 0-2.86zM5.41 20L4 18.59l7.72-7.72 1.47 1.35L5.41 20z\"/>\n",
              "  </svg>\n",
              "      </button>\n",
              "      \n",
              "  <style>\n",
              "    .colab-df-container {\n",
              "      display:flex;\n",
              "      flex-wrap:wrap;\n",
              "      gap: 12px;\n",
              "    }\n",
              "\n",
              "    .colab-df-convert {\n",
              "      background-color: #E8F0FE;\n",
              "      border: none;\n",
              "      border-radius: 50%;\n",
              "      cursor: pointer;\n",
              "      display: none;\n",
              "      fill: #1967D2;\n",
              "      height: 32px;\n",
              "      padding: 0 0 0 0;\n",
              "      width: 32px;\n",
              "    }\n",
              "\n",
              "    .colab-df-convert:hover {\n",
              "      background-color: #E2EBFA;\n",
              "      box-shadow: 0px 1px 2px rgba(60, 64, 67, 0.3), 0px 1px 3px 1px rgba(60, 64, 67, 0.15);\n",
              "      fill: #174EA6;\n",
              "    }\n",
              "\n",
              "    [theme=dark] .colab-df-convert {\n",
              "      background-color: #3B4455;\n",
              "      fill: #D2E3FC;\n",
              "    }\n",
              "\n",
              "    [theme=dark] .colab-df-convert:hover {\n",
              "      background-color: #434B5C;\n",
              "      box-shadow: 0px 1px 3px 1px rgba(0, 0, 0, 0.15);\n",
              "      filter: drop-shadow(0px 1px 2px rgba(0, 0, 0, 0.3));\n",
              "      fill: #FFFFFF;\n",
              "    }\n",
              "  </style>\n",
              "\n",
              "      <script>\n",
              "        const buttonEl =\n",
              "          document.querySelector('#df-5fb61c1e-8572-4d30-9785-7adb3b97d888 button.colab-df-convert');\n",
              "        buttonEl.style.display =\n",
              "          google.colab.kernel.accessAllowed ? 'block' : 'none';\n",
              "\n",
              "        async function convertToInteractive(key) {\n",
              "          const element = document.querySelector('#df-5fb61c1e-8572-4d30-9785-7adb3b97d888');\n",
              "          const dataTable =\n",
              "            await google.colab.kernel.invokeFunction('convertToInteractive',\n",
              "                                                     [key], {});\n",
              "          if (!dataTable) return;\n",
              "\n",
              "          const docLinkHtml = 'Like what you see? Visit the ' +\n",
              "            '<a target=\"_blank\" href=https://colab.research.google.com/notebooks/data_table.ipynb>data table notebook</a>'\n",
              "            + ' to learn more about interactive tables.';\n",
              "          element.innerHTML = '';\n",
              "          dataTable['output_type'] = 'display_data';\n",
              "          await google.colab.output.renderOutput(dataTable, element);\n",
              "          const docLink = document.createElement('div');\n",
              "          docLink.innerHTML = docLinkHtml;\n",
              "          element.appendChild(docLink);\n",
              "        }\n",
              "      </script>\n",
              "    </div>\n",
              "  </div>\n",
              "  "
            ]
          },
          "metadata": {},
          "execution_count": 17
        }
      ]
    },
    {
      "cell_type": "markdown",
      "source": [
        "#  **Task 2.2 Data Preparation**"
      ],
      "metadata": {
        "id": "ZhNAuHnUDJL6"
      }
    },
    {
      "cell_type": "code",
      "source": [
        "df.shape"
      ],
      "metadata": {
        "id": "RFWJ1P_gRuQz",
        "colab": {
          "base_uri": "https://localhost:8080/"
        },
        "outputId": "4df28bcd-116e-4178-b232-d7eb1de634c7"
      },
      "execution_count": 18,
      "outputs": [
        {
          "output_type": "execute_result",
          "data": {
            "text/plain": [
              "(5000, 19)"
            ]
          },
          "metadata": {},
          "execution_count": 18
        }
      ]
    },
    {
      "cell_type": "code",
      "source": [
        "df.head(2)"
      ],
      "metadata": {
        "id": "Anu4paHu16RW",
        "colab": {
          "base_uri": "https://localhost:8080/",
          "height": 263
        },
        "outputId": "2ce16103-9798-4655-b8d3-2d8096d45ad7"
      },
      "execution_count": 19,
      "outputs": [
        {
          "output_type": "execute_result",
          "data": {
            "text/plain": [
              "   _input  _num           _widgetName               _source  _resultNumber  \\\n",
              "0     NaN     1  Inc5000 Company List  Inc5000 Company List              1   \n",
              "1     NaN     2  Inc5000 Company List  Inc5000 Company List              2   \n",
              "\n",
              "                                            _pageUrl     id  rank  workers  \\\n",
              "0  http://www.inc.com/inc5000list/json/inc5000_20...  22890     1      227   \n",
              "1  http://www.inc.com/inc5000list/json/inc5000_20...  25747     2      191   \n",
              "\n",
              "           company              url     state_l state_s        city  \\\n",
              "0             Fuhu             fuhu  California      CA  El Segundo   \n",
              "1  Quest Nutrition  quest-nutrition  California      CA  El Segundo   \n",
              "\n",
              "         metro       growth    revenue                      industry  \\\n",
              "0  Los Angeles  158956.9106  195640000  Consumer Products & Services   \n",
              "1  Los Angeles   57347.9246   82640563               Food & Beverage   \n",
              "\n",
              "   yrs_on_list  \n",
              "0            2  \n",
              "1            1  "
            ],
            "text/html": [
              "\n",
              "  <div id=\"df-be1c4d64-c034-4db6-98a5-651ace72685f\">\n",
              "    <div class=\"colab-df-container\">\n",
              "      <div>\n",
              "<style scoped>\n",
              "    .dataframe tbody tr th:only-of-type {\n",
              "        vertical-align: middle;\n",
              "    }\n",
              "\n",
              "    .dataframe tbody tr th {\n",
              "        vertical-align: top;\n",
              "    }\n",
              "\n",
              "    .dataframe thead th {\n",
              "        text-align: right;\n",
              "    }\n",
              "</style>\n",
              "<table border=\"1\" class=\"dataframe\">\n",
              "  <thead>\n",
              "    <tr style=\"text-align: right;\">\n",
              "      <th></th>\n",
              "      <th>_input</th>\n",
              "      <th>_num</th>\n",
              "      <th>_widgetName</th>\n",
              "      <th>_source</th>\n",
              "      <th>_resultNumber</th>\n",
              "      <th>_pageUrl</th>\n",
              "      <th>id</th>\n",
              "      <th>rank</th>\n",
              "      <th>workers</th>\n",
              "      <th>company</th>\n",
              "      <th>url</th>\n",
              "      <th>state_l</th>\n",
              "      <th>state_s</th>\n",
              "      <th>city</th>\n",
              "      <th>metro</th>\n",
              "      <th>growth</th>\n",
              "      <th>revenue</th>\n",
              "      <th>industry</th>\n",
              "      <th>yrs_on_list</th>\n",
              "    </tr>\n",
              "  </thead>\n",
              "  <tbody>\n",
              "    <tr>\n",
              "      <th>0</th>\n",
              "      <td>NaN</td>\n",
              "      <td>1</td>\n",
              "      <td>Inc5000 Company List</td>\n",
              "      <td>Inc5000 Company List</td>\n",
              "      <td>1</td>\n",
              "      <td>http://www.inc.com/inc5000list/json/inc5000_20...</td>\n",
              "      <td>22890</td>\n",
              "      <td>1</td>\n",
              "      <td>227</td>\n",
              "      <td>Fuhu</td>\n",
              "      <td>fuhu</td>\n",
              "      <td>California</td>\n",
              "      <td>CA</td>\n",
              "      <td>El Segundo</td>\n",
              "      <td>Los Angeles</td>\n",
              "      <td>158956.9106</td>\n",
              "      <td>195640000</td>\n",
              "      <td>Consumer Products &amp; Services</td>\n",
              "      <td>2</td>\n",
              "    </tr>\n",
              "    <tr>\n",
              "      <th>1</th>\n",
              "      <td>NaN</td>\n",
              "      <td>2</td>\n",
              "      <td>Inc5000 Company List</td>\n",
              "      <td>Inc5000 Company List</td>\n",
              "      <td>2</td>\n",
              "      <td>http://www.inc.com/inc5000list/json/inc5000_20...</td>\n",
              "      <td>25747</td>\n",
              "      <td>2</td>\n",
              "      <td>191</td>\n",
              "      <td>Quest Nutrition</td>\n",
              "      <td>quest-nutrition</td>\n",
              "      <td>California</td>\n",
              "      <td>CA</td>\n",
              "      <td>El Segundo</td>\n",
              "      <td>Los Angeles</td>\n",
              "      <td>57347.9246</td>\n",
              "      <td>82640563</td>\n",
              "      <td>Food &amp; Beverage</td>\n",
              "      <td>1</td>\n",
              "    </tr>\n",
              "  </tbody>\n",
              "</table>\n",
              "</div>\n",
              "      <button class=\"colab-df-convert\" onclick=\"convertToInteractive('df-be1c4d64-c034-4db6-98a5-651ace72685f')\"\n",
              "              title=\"Convert this dataframe to an interactive table.\"\n",
              "              style=\"display:none;\">\n",
              "        \n",
              "  <svg xmlns=\"http://www.w3.org/2000/svg\" height=\"24px\"viewBox=\"0 0 24 24\"\n",
              "       width=\"24px\">\n",
              "    <path d=\"M0 0h24v24H0V0z\" fill=\"none\"/>\n",
              "    <path d=\"M18.56 5.44l.94 2.06.94-2.06 2.06-.94-2.06-.94-.94-2.06-.94 2.06-2.06.94zm-11 1L8.5 8.5l.94-2.06 2.06-.94-2.06-.94L8.5 2.5l-.94 2.06-2.06.94zm10 10l.94 2.06.94-2.06 2.06-.94-2.06-.94-.94-2.06-.94 2.06-2.06.94z\"/><path d=\"M17.41 7.96l-1.37-1.37c-.4-.4-.92-.59-1.43-.59-.52 0-1.04.2-1.43.59L10.3 9.45l-7.72 7.72c-.78.78-.78 2.05 0 2.83L4 21.41c.39.39.9.59 1.41.59.51 0 1.02-.2 1.41-.59l7.78-7.78 2.81-2.81c.8-.78.8-2.07 0-2.86zM5.41 20L4 18.59l7.72-7.72 1.47 1.35L5.41 20z\"/>\n",
              "  </svg>\n",
              "      </button>\n",
              "      \n",
              "  <style>\n",
              "    .colab-df-container {\n",
              "      display:flex;\n",
              "      flex-wrap:wrap;\n",
              "      gap: 12px;\n",
              "    }\n",
              "\n",
              "    .colab-df-convert {\n",
              "      background-color: #E8F0FE;\n",
              "      border: none;\n",
              "      border-radius: 50%;\n",
              "      cursor: pointer;\n",
              "      display: none;\n",
              "      fill: #1967D2;\n",
              "      height: 32px;\n",
              "      padding: 0 0 0 0;\n",
              "      width: 32px;\n",
              "    }\n",
              "\n",
              "    .colab-df-convert:hover {\n",
              "      background-color: #E2EBFA;\n",
              "      box-shadow: 0px 1px 2px rgba(60, 64, 67, 0.3), 0px 1px 3px 1px rgba(60, 64, 67, 0.15);\n",
              "      fill: #174EA6;\n",
              "    }\n",
              "\n",
              "    [theme=dark] .colab-df-convert {\n",
              "      background-color: #3B4455;\n",
              "      fill: #D2E3FC;\n",
              "    }\n",
              "\n",
              "    [theme=dark] .colab-df-convert:hover {\n",
              "      background-color: #434B5C;\n",
              "      box-shadow: 0px 1px 3px 1px rgba(0, 0, 0, 0.15);\n",
              "      filter: drop-shadow(0px 1px 2px rgba(0, 0, 0, 0.3));\n",
              "      fill: #FFFFFF;\n",
              "    }\n",
              "  </style>\n",
              "\n",
              "      <script>\n",
              "        const buttonEl =\n",
              "          document.querySelector('#df-be1c4d64-c034-4db6-98a5-651ace72685f button.colab-df-convert');\n",
              "        buttonEl.style.display =\n",
              "          google.colab.kernel.accessAllowed ? 'block' : 'none';\n",
              "\n",
              "        async function convertToInteractive(key) {\n",
              "          const element = document.querySelector('#df-be1c4d64-c034-4db6-98a5-651ace72685f');\n",
              "          const dataTable =\n",
              "            await google.colab.kernel.invokeFunction('convertToInteractive',\n",
              "                                                     [key], {});\n",
              "          if (!dataTable) return;\n",
              "\n",
              "          const docLinkHtml = 'Like what you see? Visit the ' +\n",
              "            '<a target=\"_blank\" href=https://colab.research.google.com/notebooks/data_table.ipynb>data table notebook</a>'\n",
              "            + ' to learn more about interactive tables.';\n",
              "          element.innerHTML = '';\n",
              "          dataTable['output_type'] = 'display_data';\n",
              "          await google.colab.output.renderOutput(dataTable, element);\n",
              "          const docLink = document.createElement('div');\n",
              "          docLink.innerHTML = docLinkHtml;\n",
              "          element.appendChild(docLink);\n",
              "        }\n",
              "      </script>\n",
              "    </div>\n",
              "  </div>\n",
              "  "
            ]
          },
          "metadata": {},
          "execution_count": 19
        }
      ]
    },
    {
      "cell_type": "markdown",
      "source": [
        "## **Data Cleaning**"
      ],
      "metadata": {
        "id": "Ed-2lD3KR8Cq"
      }
    },
    {
      "cell_type": "code",
      "source": [
        "df.columns"
      ],
      "metadata": {
        "id": "5WxnE_PD3Ffm",
        "colab": {
          "base_uri": "https://localhost:8080/"
        },
        "outputId": "44de15cd-9249-4164-a634-3a821bd77595"
      },
      "execution_count": 20,
      "outputs": [
        {
          "output_type": "execute_result",
          "data": {
            "text/plain": [
              "Index(['_input', '_num', '_widgetName', '_source', '_resultNumber', '_pageUrl',\n",
              "       'id', 'rank', 'workers', 'company', 'url', 'state_l', 'state_s', 'city',\n",
              "       'metro', 'growth', 'revenue', 'industry', 'yrs_on_list'],\n",
              "      dtype='object')"
            ]
          },
          "metadata": {},
          "execution_count": 20
        }
      ]
    },
    {
      "cell_type": "markdown",
      "source": [
        "### Drop irrelevant Columns"
      ],
      "metadata": {
        "id": "ywg5e-7azWLC"
      }
    },
    {
      "cell_type": "code",
      "source": [
        "df=df.drop(['_input', '_num', '_widgetName', '_source', '_resultNumber', '_pageUrl',\n",
        "       'id', 'rank','url','state_s','city',\n",
        "       'metro','yrs_on_list'],axis=1)"
      ],
      "metadata": {
        "id": "JaxcPoBo21Vr"
      },
      "execution_count": 21,
      "outputs": []
    },
    {
      "cell_type": "code",
      "source": [
        "df.head(3)"
      ],
      "metadata": {
        "id": "-4jtn8Zc21Jv",
        "colab": {
          "base_uri": "https://localhost:8080/",
          "height": 143
        },
        "outputId": "2bc77ae7-249a-4a04-a6b1-952f811d85e1"
      },
      "execution_count": 22,
      "outputs": [
        {
          "output_type": "execute_result",
          "data": {
            "text/plain": [
              "   workers                   company     state_l       growth    revenue  \\\n",
              "0      227                      Fuhu  California  158956.9106  195640000   \n",
              "1      191           Quest Nutrition  California   57347.9246   82640563   \n",
              "2      145  Reliant Asset Management    Virginia   55460.1646   85076502   \n",
              "\n",
              "                       industry  \n",
              "0  Consumer Products & Services  \n",
              "1               Food & Beverage  \n",
              "2  Business Products & Services  "
            ],
            "text/html": [
              "\n",
              "  <div id=\"df-49596c1d-0fbe-424f-b6e5-e6b5756c8156\">\n",
              "    <div class=\"colab-df-container\">\n",
              "      <div>\n",
              "<style scoped>\n",
              "    .dataframe tbody tr th:only-of-type {\n",
              "        vertical-align: middle;\n",
              "    }\n",
              "\n",
              "    .dataframe tbody tr th {\n",
              "        vertical-align: top;\n",
              "    }\n",
              "\n",
              "    .dataframe thead th {\n",
              "        text-align: right;\n",
              "    }\n",
              "</style>\n",
              "<table border=\"1\" class=\"dataframe\">\n",
              "  <thead>\n",
              "    <tr style=\"text-align: right;\">\n",
              "      <th></th>\n",
              "      <th>workers</th>\n",
              "      <th>company</th>\n",
              "      <th>state_l</th>\n",
              "      <th>growth</th>\n",
              "      <th>revenue</th>\n",
              "      <th>industry</th>\n",
              "    </tr>\n",
              "  </thead>\n",
              "  <tbody>\n",
              "    <tr>\n",
              "      <th>0</th>\n",
              "      <td>227</td>\n",
              "      <td>Fuhu</td>\n",
              "      <td>California</td>\n",
              "      <td>158956.9106</td>\n",
              "      <td>195640000</td>\n",
              "      <td>Consumer Products &amp; Services</td>\n",
              "    </tr>\n",
              "    <tr>\n",
              "      <th>1</th>\n",
              "      <td>191</td>\n",
              "      <td>Quest Nutrition</td>\n",
              "      <td>California</td>\n",
              "      <td>57347.9246</td>\n",
              "      <td>82640563</td>\n",
              "      <td>Food &amp; Beverage</td>\n",
              "    </tr>\n",
              "    <tr>\n",
              "      <th>2</th>\n",
              "      <td>145</td>\n",
              "      <td>Reliant Asset Management</td>\n",
              "      <td>Virginia</td>\n",
              "      <td>55460.1646</td>\n",
              "      <td>85076502</td>\n",
              "      <td>Business Products &amp; Services</td>\n",
              "    </tr>\n",
              "  </tbody>\n",
              "</table>\n",
              "</div>\n",
              "      <button class=\"colab-df-convert\" onclick=\"convertToInteractive('df-49596c1d-0fbe-424f-b6e5-e6b5756c8156')\"\n",
              "              title=\"Convert this dataframe to an interactive table.\"\n",
              "              style=\"display:none;\">\n",
              "        \n",
              "  <svg xmlns=\"http://www.w3.org/2000/svg\" height=\"24px\"viewBox=\"0 0 24 24\"\n",
              "       width=\"24px\">\n",
              "    <path d=\"M0 0h24v24H0V0z\" fill=\"none\"/>\n",
              "    <path d=\"M18.56 5.44l.94 2.06.94-2.06 2.06-.94-2.06-.94-.94-2.06-.94 2.06-2.06.94zm-11 1L8.5 8.5l.94-2.06 2.06-.94-2.06-.94L8.5 2.5l-.94 2.06-2.06.94zm10 10l.94 2.06.94-2.06 2.06-.94-2.06-.94-.94-2.06-.94 2.06-2.06.94z\"/><path d=\"M17.41 7.96l-1.37-1.37c-.4-.4-.92-.59-1.43-.59-.52 0-1.04.2-1.43.59L10.3 9.45l-7.72 7.72c-.78.78-.78 2.05 0 2.83L4 21.41c.39.39.9.59 1.41.59.51 0 1.02-.2 1.41-.59l7.78-7.78 2.81-2.81c.8-.78.8-2.07 0-2.86zM5.41 20L4 18.59l7.72-7.72 1.47 1.35L5.41 20z\"/>\n",
              "  </svg>\n",
              "      </button>\n",
              "      \n",
              "  <style>\n",
              "    .colab-df-container {\n",
              "      display:flex;\n",
              "      flex-wrap:wrap;\n",
              "      gap: 12px;\n",
              "    }\n",
              "\n",
              "    .colab-df-convert {\n",
              "      background-color: #E8F0FE;\n",
              "      border: none;\n",
              "      border-radius: 50%;\n",
              "      cursor: pointer;\n",
              "      display: none;\n",
              "      fill: #1967D2;\n",
              "      height: 32px;\n",
              "      padding: 0 0 0 0;\n",
              "      width: 32px;\n",
              "    }\n",
              "\n",
              "    .colab-df-convert:hover {\n",
              "      background-color: #E2EBFA;\n",
              "      box-shadow: 0px 1px 2px rgba(60, 64, 67, 0.3), 0px 1px 3px 1px rgba(60, 64, 67, 0.15);\n",
              "      fill: #174EA6;\n",
              "    }\n",
              "\n",
              "    [theme=dark] .colab-df-convert {\n",
              "      background-color: #3B4455;\n",
              "      fill: #D2E3FC;\n",
              "    }\n",
              "\n",
              "    [theme=dark] .colab-df-convert:hover {\n",
              "      background-color: #434B5C;\n",
              "      box-shadow: 0px 1px 3px 1px rgba(0, 0, 0, 0.15);\n",
              "      filter: drop-shadow(0px 1px 2px rgba(0, 0, 0, 0.3));\n",
              "      fill: #FFFFFF;\n",
              "    }\n",
              "  </style>\n",
              "\n",
              "      <script>\n",
              "        const buttonEl =\n",
              "          document.querySelector('#df-49596c1d-0fbe-424f-b6e5-e6b5756c8156 button.colab-df-convert');\n",
              "        buttonEl.style.display =\n",
              "          google.colab.kernel.accessAllowed ? 'block' : 'none';\n",
              "\n",
              "        async function convertToInteractive(key) {\n",
              "          const element = document.querySelector('#df-49596c1d-0fbe-424f-b6e5-e6b5756c8156');\n",
              "          const dataTable =\n",
              "            await google.colab.kernel.invokeFunction('convertToInteractive',\n",
              "                                                     [key], {});\n",
              "          if (!dataTable) return;\n",
              "\n",
              "          const docLinkHtml = 'Like what you see? Visit the ' +\n",
              "            '<a target=\"_blank\" href=https://colab.research.google.com/notebooks/data_table.ipynb>data table notebook</a>'\n",
              "            + ' to learn more about interactive tables.';\n",
              "          element.innerHTML = '';\n",
              "          dataTable['output_type'] = 'display_data';\n",
              "          await google.colab.output.renderOutput(dataTable, element);\n",
              "          const docLink = document.createElement('div');\n",
              "          docLink.innerHTML = docLinkHtml;\n",
              "          element.appendChild(docLink);\n",
              "        }\n",
              "      </script>\n",
              "    </div>\n",
              "  </div>\n",
              "  "
            ]
          },
          "metadata": {},
          "execution_count": 22
        }
      ]
    },
    {
      "cell_type": "code",
      "source": [
        "df.shape\n",
        "#now we have only six columns"
      ],
      "metadata": {
        "id": "dwt850p3812Y",
        "colab": {
          "base_uri": "https://localhost:8080/"
        },
        "outputId": "9fed6447-a451-4963-e560-dd4c0d6b4298"
      },
      "execution_count": 23,
      "outputs": [
        {
          "output_type": "execute_result",
          "data": {
            "text/plain": [
              "(5000, 6)"
            ]
          },
          "metadata": {},
          "execution_count": 23
        }
      ]
    },
    {
      "cell_type": "code",
      "source": [
        "df.info()"
      ],
      "metadata": {
        "id": "PZdLUPw786Pk",
        "colab": {
          "base_uri": "https://localhost:8080/"
        },
        "outputId": "11722190-39fa-40f4-b907-db6e9ca3ebfc"
      },
      "execution_count": 24,
      "outputs": [
        {
          "output_type": "stream",
          "name": "stdout",
          "text": [
            "<class 'pandas.core.frame.DataFrame'>\n",
            "RangeIndex: 5000 entries, 0 to 4999\n",
            "Data columns (total 6 columns):\n",
            " #   Column    Non-Null Count  Dtype  \n",
            "---  ------    --------------  -----  \n",
            " 0   workers   5000 non-null   int64  \n",
            " 1   company   5000 non-null   object \n",
            " 2   state_l   5000 non-null   object \n",
            " 3   growth    5000 non-null   float64\n",
            " 4   revenue   5000 non-null   int64  \n",
            " 5   industry  5000 non-null   object \n",
            "dtypes: float64(1), int64(2), object(3)\n",
            "memory usage: 234.5+ KB\n"
          ]
        }
      ]
    },
    {
      "cell_type": "code",
      "source": [
        "null=df.isnull().sum()\n",
        "null\n",
        "#there is no null values in data"
      ],
      "metadata": {
        "id": "RYqt1BlN8XmW",
        "colab": {
          "base_uri": "https://localhost:8080/"
        },
        "outputId": "06d301e3-fb4f-4de1-abf0-181c493fbfe4"
      },
      "execution_count": 25,
      "outputs": [
        {
          "output_type": "execute_result",
          "data": {
            "text/plain": [
              "workers     0\n",
              "company     0\n",
              "state_l     0\n",
              "growth      0\n",
              "revenue     0\n",
              "industry    0\n",
              "dtype: int64"
            ]
          },
          "metadata": {},
          "execution_count": 25
        }
      ]
    },
    {
      "cell_type": "code",
      "source": [
        "df.describe()"
      ],
      "metadata": {
        "id": "JilDMR1-9Icj",
        "colab": {
          "base_uri": "https://localhost:8080/",
          "height": 300
        },
        "outputId": "5b424d78-7230-47bd-a41a-766095e64b89"
      },
      "execution_count": 26,
      "outputs": [
        {
          "output_type": "execute_result",
          "data": {
            "text/plain": [
              "            workers         growth       revenue\n",
              "count   5000.000000    5000.000000  5.000000e+03\n",
              "mean     208.969800     516.439892  4.305818e+07\n",
              "std     1074.600125    2786.061791  1.818559e+08\n",
              "min        0.000000      42.447000  1.953000e+06\n",
              "25%       24.000000      84.208250  4.876791e+06\n",
              "50%       50.000000     151.722800  1.072208e+07\n",
              "75%      125.000000     347.652825  2.695213e+07\n",
              "max    34219.000000  158956.910600  5.528203e+09"
            ],
            "text/html": [
              "\n",
              "  <div id=\"df-d5b7ea4b-3437-4f30-8fe3-4478eb375d97\">\n",
              "    <div class=\"colab-df-container\">\n",
              "      <div>\n",
              "<style scoped>\n",
              "    .dataframe tbody tr th:only-of-type {\n",
              "        vertical-align: middle;\n",
              "    }\n",
              "\n",
              "    .dataframe tbody tr th {\n",
              "        vertical-align: top;\n",
              "    }\n",
              "\n",
              "    .dataframe thead th {\n",
              "        text-align: right;\n",
              "    }\n",
              "</style>\n",
              "<table border=\"1\" class=\"dataframe\">\n",
              "  <thead>\n",
              "    <tr style=\"text-align: right;\">\n",
              "      <th></th>\n",
              "      <th>workers</th>\n",
              "      <th>growth</th>\n",
              "      <th>revenue</th>\n",
              "    </tr>\n",
              "  </thead>\n",
              "  <tbody>\n",
              "    <tr>\n",
              "      <th>count</th>\n",
              "      <td>5000.000000</td>\n",
              "      <td>5000.000000</td>\n",
              "      <td>5.000000e+03</td>\n",
              "    </tr>\n",
              "    <tr>\n",
              "      <th>mean</th>\n",
              "      <td>208.969800</td>\n",
              "      <td>516.439892</td>\n",
              "      <td>4.305818e+07</td>\n",
              "    </tr>\n",
              "    <tr>\n",
              "      <th>std</th>\n",
              "      <td>1074.600125</td>\n",
              "      <td>2786.061791</td>\n",
              "      <td>1.818559e+08</td>\n",
              "    </tr>\n",
              "    <tr>\n",
              "      <th>min</th>\n",
              "      <td>0.000000</td>\n",
              "      <td>42.447000</td>\n",
              "      <td>1.953000e+06</td>\n",
              "    </tr>\n",
              "    <tr>\n",
              "      <th>25%</th>\n",
              "      <td>24.000000</td>\n",
              "      <td>84.208250</td>\n",
              "      <td>4.876791e+06</td>\n",
              "    </tr>\n",
              "    <tr>\n",
              "      <th>50%</th>\n",
              "      <td>50.000000</td>\n",
              "      <td>151.722800</td>\n",
              "      <td>1.072208e+07</td>\n",
              "    </tr>\n",
              "    <tr>\n",
              "      <th>75%</th>\n",
              "      <td>125.000000</td>\n",
              "      <td>347.652825</td>\n",
              "      <td>2.695213e+07</td>\n",
              "    </tr>\n",
              "    <tr>\n",
              "      <th>max</th>\n",
              "      <td>34219.000000</td>\n",
              "      <td>158956.910600</td>\n",
              "      <td>5.528203e+09</td>\n",
              "    </tr>\n",
              "  </tbody>\n",
              "</table>\n",
              "</div>\n",
              "      <button class=\"colab-df-convert\" onclick=\"convertToInteractive('df-d5b7ea4b-3437-4f30-8fe3-4478eb375d97')\"\n",
              "              title=\"Convert this dataframe to an interactive table.\"\n",
              "              style=\"display:none;\">\n",
              "        \n",
              "  <svg xmlns=\"http://www.w3.org/2000/svg\" height=\"24px\"viewBox=\"0 0 24 24\"\n",
              "       width=\"24px\">\n",
              "    <path d=\"M0 0h24v24H0V0z\" fill=\"none\"/>\n",
              "    <path d=\"M18.56 5.44l.94 2.06.94-2.06 2.06-.94-2.06-.94-.94-2.06-.94 2.06-2.06.94zm-11 1L8.5 8.5l.94-2.06 2.06-.94-2.06-.94L8.5 2.5l-.94 2.06-2.06.94zm10 10l.94 2.06.94-2.06 2.06-.94-2.06-.94-.94-2.06-.94 2.06-2.06.94z\"/><path d=\"M17.41 7.96l-1.37-1.37c-.4-.4-.92-.59-1.43-.59-.52 0-1.04.2-1.43.59L10.3 9.45l-7.72 7.72c-.78.78-.78 2.05 0 2.83L4 21.41c.39.39.9.59 1.41.59.51 0 1.02-.2 1.41-.59l7.78-7.78 2.81-2.81c.8-.78.8-2.07 0-2.86zM5.41 20L4 18.59l7.72-7.72 1.47 1.35L5.41 20z\"/>\n",
              "  </svg>\n",
              "      </button>\n",
              "      \n",
              "  <style>\n",
              "    .colab-df-container {\n",
              "      display:flex;\n",
              "      flex-wrap:wrap;\n",
              "      gap: 12px;\n",
              "    }\n",
              "\n",
              "    .colab-df-convert {\n",
              "      background-color: #E8F0FE;\n",
              "      border: none;\n",
              "      border-radius: 50%;\n",
              "      cursor: pointer;\n",
              "      display: none;\n",
              "      fill: #1967D2;\n",
              "      height: 32px;\n",
              "      padding: 0 0 0 0;\n",
              "      width: 32px;\n",
              "    }\n",
              "\n",
              "    .colab-df-convert:hover {\n",
              "      background-color: #E2EBFA;\n",
              "      box-shadow: 0px 1px 2px rgba(60, 64, 67, 0.3), 0px 1px 3px 1px rgba(60, 64, 67, 0.15);\n",
              "      fill: #174EA6;\n",
              "    }\n",
              "\n",
              "    [theme=dark] .colab-df-convert {\n",
              "      background-color: #3B4455;\n",
              "      fill: #D2E3FC;\n",
              "    }\n",
              "\n",
              "    [theme=dark] .colab-df-convert:hover {\n",
              "      background-color: #434B5C;\n",
              "      box-shadow: 0px 1px 3px 1px rgba(0, 0, 0, 0.15);\n",
              "      filter: drop-shadow(0px 1px 2px rgba(0, 0, 0, 0.3));\n",
              "      fill: #FFFFFF;\n",
              "    }\n",
              "  </style>\n",
              "\n",
              "      <script>\n",
              "        const buttonEl =\n",
              "          document.querySelector('#df-d5b7ea4b-3437-4f30-8fe3-4478eb375d97 button.colab-df-convert');\n",
              "        buttonEl.style.display =\n",
              "          google.colab.kernel.accessAllowed ? 'block' : 'none';\n",
              "\n",
              "        async function convertToInteractive(key) {\n",
              "          const element = document.querySelector('#df-d5b7ea4b-3437-4f30-8fe3-4478eb375d97');\n",
              "          const dataTable =\n",
              "            await google.colab.kernel.invokeFunction('convertToInteractive',\n",
              "                                                     [key], {});\n",
              "          if (!dataTable) return;\n",
              "\n",
              "          const docLinkHtml = 'Like what you see? Visit the ' +\n",
              "            '<a target=\"_blank\" href=https://colab.research.google.com/notebooks/data_table.ipynb>data table notebook</a>'\n",
              "            + ' to learn more about interactive tables.';\n",
              "          element.innerHTML = '';\n",
              "          dataTable['output_type'] = 'display_data';\n",
              "          await google.colab.output.renderOutput(dataTable, element);\n",
              "          const docLink = document.createElement('div');\n",
              "          docLink.innerHTML = docLinkHtml;\n",
              "          element.appendChild(docLink);\n",
              "        }\n",
              "      </script>\n",
              "    </div>\n",
              "  </div>\n",
              "  "
            ]
          },
          "metadata": {},
          "execution_count": 26
        }
      ]
    },
    {
      "cell_type": "code",
      "source": [
        "df['workers'].max()\n",
        "#there is 34219 workers one of a company which is highest"
      ],
      "metadata": {
        "id": "r1uKF_il9K8V",
        "colab": {
          "base_uri": "https://localhost:8080/"
        },
        "outputId": "27f0388c-b6d9-4e7b-96f6-f3752c0128e3"
      },
      "execution_count": 27,
      "outputs": [
        {
          "output_type": "execute_result",
          "data": {
            "text/plain": [
              "34219"
            ]
          },
          "metadata": {},
          "execution_count": 27
        }
      ]
    },
    {
      "cell_type": "code",
      "source": [
        "df.duplicated().sum()\n",
        "#There is also no duplicate values"
      ],
      "metadata": {
        "id": "g4krucr49gRM",
        "colab": {
          "base_uri": "https://localhost:8080/"
        },
        "outputId": "cab89d56-79f2-47e1-baa5-614095c32a11"
      },
      "execution_count": 28,
      "outputs": [
        {
          "output_type": "execute_result",
          "data": {
            "text/plain": [
              "0"
            ]
          },
          "metadata": {},
          "execution_count": 28
        }
      ]
    },
    {
      "cell_type": "code",
      "source": [
        "df.skew()\n",
        "#There is positively skewed data"
      ],
      "metadata": {
        "id": "UfpZtFdE_NxN",
        "colab": {
          "base_uri": "https://localhost:8080/"
        },
        "outputId": "5f546290-cec2-46c4-d291-6faf09b74cb0"
      },
      "execution_count": 29,
      "outputs": [
        {
          "output_type": "stream",
          "name": "stderr",
          "text": [
            "<ipython-input-29-3ea2569cf1e1>:1: FutureWarning: Dropping of nuisance columns in DataFrame reductions (with 'numeric_only=None') is deprecated; in a future version this will raise TypeError.  Select only valid columns before calling the reduction.\n",
            "  df.skew()\n"
          ]
        },
        {
          "output_type": "execute_result",
          "data": {
            "text/plain": [
              "workers    19.835568\n",
              "growth     40.795186\n",
              "revenue    17.002107\n",
              "dtype: float64"
            ]
          },
          "metadata": {},
          "execution_count": 29
        }
      ]
    },
    {
      "cell_type": "markdown",
      "source": [
        "# Data Transformation"
      ],
      "metadata": {
        "id": "Rtw30k9cjNtH"
      }
    },
    {
      "cell_type": "code",
      "source": [
        "# create a new column containing the revenue values in millions\n",
        "df['Revenue (in millions)'] = df['revenue'] / 1000000\n",
        "df['Revenue_million']=df['Revenue (in millions)'].round(2)\n"
      ],
      "metadata": {
        "id": "DZ6Qd8ju-ZJi"
      },
      "execution_count": 30,
      "outputs": []
    },
    {
      "cell_type": "code",
      "source": [
        "df.head(5)"
      ],
      "metadata": {
        "id": "9NQw1ab6Azid",
        "colab": {
          "base_uri": "https://localhost:8080/",
          "height": 206
        },
        "outputId": "10e5db6d-9a27-4ac2-ff9a-a69435320c25"
      },
      "execution_count": 31,
      "outputs": [
        {
          "output_type": "execute_result",
          "data": {
            "text/plain": [
              "   workers                   company        state_l       growth    revenue  \\\n",
              "0      227                      Fuhu     California  158956.9106  195640000   \n",
              "1      191           Quest Nutrition     California   57347.9246   82640563   \n",
              "2      145  Reliant Asset Management       Virginia   55460.1646   85076502   \n",
              "3       62                 Superfish     California   26042.9630   35293000   \n",
              "4       92     Acacia Communications  Massachusetts   20690.4578   77652360   \n",
              "\n",
              "                       industry  Revenue (in millions)  Revenue_million  \n",
              "0  Consumer Products & Services             195.640000           195.64  \n",
              "1               Food & Beverage              82.640563            82.64  \n",
              "2  Business Products & Services              85.076502            85.08  \n",
              "3                      Software              35.293000            35.29  \n",
              "4            Telecommunications              77.652360            77.65  "
            ],
            "text/html": [
              "\n",
              "  <div id=\"df-258a86aa-1902-4b01-b27e-ff83c82d3b8c\">\n",
              "    <div class=\"colab-df-container\">\n",
              "      <div>\n",
              "<style scoped>\n",
              "    .dataframe tbody tr th:only-of-type {\n",
              "        vertical-align: middle;\n",
              "    }\n",
              "\n",
              "    .dataframe tbody tr th {\n",
              "        vertical-align: top;\n",
              "    }\n",
              "\n",
              "    .dataframe thead th {\n",
              "        text-align: right;\n",
              "    }\n",
              "</style>\n",
              "<table border=\"1\" class=\"dataframe\">\n",
              "  <thead>\n",
              "    <tr style=\"text-align: right;\">\n",
              "      <th></th>\n",
              "      <th>workers</th>\n",
              "      <th>company</th>\n",
              "      <th>state_l</th>\n",
              "      <th>growth</th>\n",
              "      <th>revenue</th>\n",
              "      <th>industry</th>\n",
              "      <th>Revenue (in millions)</th>\n",
              "      <th>Revenue_million</th>\n",
              "    </tr>\n",
              "  </thead>\n",
              "  <tbody>\n",
              "    <tr>\n",
              "      <th>0</th>\n",
              "      <td>227</td>\n",
              "      <td>Fuhu</td>\n",
              "      <td>California</td>\n",
              "      <td>158956.9106</td>\n",
              "      <td>195640000</td>\n",
              "      <td>Consumer Products &amp; Services</td>\n",
              "      <td>195.640000</td>\n",
              "      <td>195.64</td>\n",
              "    </tr>\n",
              "    <tr>\n",
              "      <th>1</th>\n",
              "      <td>191</td>\n",
              "      <td>Quest Nutrition</td>\n",
              "      <td>California</td>\n",
              "      <td>57347.9246</td>\n",
              "      <td>82640563</td>\n",
              "      <td>Food &amp; Beverage</td>\n",
              "      <td>82.640563</td>\n",
              "      <td>82.64</td>\n",
              "    </tr>\n",
              "    <tr>\n",
              "      <th>2</th>\n",
              "      <td>145</td>\n",
              "      <td>Reliant Asset Management</td>\n",
              "      <td>Virginia</td>\n",
              "      <td>55460.1646</td>\n",
              "      <td>85076502</td>\n",
              "      <td>Business Products &amp; Services</td>\n",
              "      <td>85.076502</td>\n",
              "      <td>85.08</td>\n",
              "    </tr>\n",
              "    <tr>\n",
              "      <th>3</th>\n",
              "      <td>62</td>\n",
              "      <td>Superfish</td>\n",
              "      <td>California</td>\n",
              "      <td>26042.9630</td>\n",
              "      <td>35293000</td>\n",
              "      <td>Software</td>\n",
              "      <td>35.293000</td>\n",
              "      <td>35.29</td>\n",
              "    </tr>\n",
              "    <tr>\n",
              "      <th>4</th>\n",
              "      <td>92</td>\n",
              "      <td>Acacia Communications</td>\n",
              "      <td>Massachusetts</td>\n",
              "      <td>20690.4578</td>\n",
              "      <td>77652360</td>\n",
              "      <td>Telecommunications</td>\n",
              "      <td>77.652360</td>\n",
              "      <td>77.65</td>\n",
              "    </tr>\n",
              "  </tbody>\n",
              "</table>\n",
              "</div>\n",
              "      <button class=\"colab-df-convert\" onclick=\"convertToInteractive('df-258a86aa-1902-4b01-b27e-ff83c82d3b8c')\"\n",
              "              title=\"Convert this dataframe to an interactive table.\"\n",
              "              style=\"display:none;\">\n",
              "        \n",
              "  <svg xmlns=\"http://www.w3.org/2000/svg\" height=\"24px\"viewBox=\"0 0 24 24\"\n",
              "       width=\"24px\">\n",
              "    <path d=\"M0 0h24v24H0V0z\" fill=\"none\"/>\n",
              "    <path d=\"M18.56 5.44l.94 2.06.94-2.06 2.06-.94-2.06-.94-.94-2.06-.94 2.06-2.06.94zm-11 1L8.5 8.5l.94-2.06 2.06-.94-2.06-.94L8.5 2.5l-.94 2.06-2.06.94zm10 10l.94 2.06.94-2.06 2.06-.94-2.06-.94-.94-2.06-.94 2.06-2.06.94z\"/><path d=\"M17.41 7.96l-1.37-1.37c-.4-.4-.92-.59-1.43-.59-.52 0-1.04.2-1.43.59L10.3 9.45l-7.72 7.72c-.78.78-.78 2.05 0 2.83L4 21.41c.39.39.9.59 1.41.59.51 0 1.02-.2 1.41-.59l7.78-7.78 2.81-2.81c.8-.78.8-2.07 0-2.86zM5.41 20L4 18.59l7.72-7.72 1.47 1.35L5.41 20z\"/>\n",
              "  </svg>\n",
              "      </button>\n",
              "      \n",
              "  <style>\n",
              "    .colab-df-container {\n",
              "      display:flex;\n",
              "      flex-wrap:wrap;\n",
              "      gap: 12px;\n",
              "    }\n",
              "\n",
              "    .colab-df-convert {\n",
              "      background-color: #E8F0FE;\n",
              "      border: none;\n",
              "      border-radius: 50%;\n",
              "      cursor: pointer;\n",
              "      display: none;\n",
              "      fill: #1967D2;\n",
              "      height: 32px;\n",
              "      padding: 0 0 0 0;\n",
              "      width: 32px;\n",
              "    }\n",
              "\n",
              "    .colab-df-convert:hover {\n",
              "      background-color: #E2EBFA;\n",
              "      box-shadow: 0px 1px 2px rgba(60, 64, 67, 0.3), 0px 1px 3px 1px rgba(60, 64, 67, 0.15);\n",
              "      fill: #174EA6;\n",
              "    }\n",
              "\n",
              "    [theme=dark] .colab-df-convert {\n",
              "      background-color: #3B4455;\n",
              "      fill: #D2E3FC;\n",
              "    }\n",
              "\n",
              "    [theme=dark] .colab-df-convert:hover {\n",
              "      background-color: #434B5C;\n",
              "      box-shadow: 0px 1px 3px 1px rgba(0, 0, 0, 0.15);\n",
              "      filter: drop-shadow(0px 1px 2px rgba(0, 0, 0, 0.3));\n",
              "      fill: #FFFFFF;\n",
              "    }\n",
              "  </style>\n",
              "\n",
              "      <script>\n",
              "        const buttonEl =\n",
              "          document.querySelector('#df-258a86aa-1902-4b01-b27e-ff83c82d3b8c button.colab-df-convert');\n",
              "        buttonEl.style.display =\n",
              "          google.colab.kernel.accessAllowed ? 'block' : 'none';\n",
              "\n",
              "        async function convertToInteractive(key) {\n",
              "          const element = document.querySelector('#df-258a86aa-1902-4b01-b27e-ff83c82d3b8c');\n",
              "          const dataTable =\n",
              "            await google.colab.kernel.invokeFunction('convertToInteractive',\n",
              "                                                     [key], {});\n",
              "          if (!dataTable) return;\n",
              "\n",
              "          const docLinkHtml = 'Like what you see? Visit the ' +\n",
              "            '<a target=\"_blank\" href=https://colab.research.google.com/notebooks/data_table.ipynb>data table notebook</a>'\n",
              "            + ' to learn more about interactive tables.';\n",
              "          element.innerHTML = '';\n",
              "          dataTable['output_type'] = 'display_data';\n",
              "          await google.colab.output.renderOutput(dataTable, element);\n",
              "          const docLink = document.createElement('div');\n",
              "          docLink.innerHTML = docLinkHtml;\n",
              "          element.appendChild(docLink);\n",
              "        }\n",
              "      </script>\n",
              "    </div>\n",
              "  </div>\n",
              "  "
            ]
          },
          "metadata": {},
          "execution_count": 31
        }
      ]
    },
    {
      "cell_type": "code",
      "source": [
        "df['Growth']=df['growth'].round(0)\n",
        "#we removed decimals from growth by creating new column"
      ],
      "metadata": {
        "id": "xEMoEs5hXa_p"
      },
      "execution_count": 32,
      "outputs": []
    },
    {
      "cell_type": "code",
      "source": [
        "df.head(2)"
      ],
      "metadata": {
        "id": "Qn4Nx39eWObA",
        "colab": {
          "base_uri": "https://localhost:8080/",
          "height": 112
        },
        "outputId": "8910c201-029a-4e48-e1a9-09385502f042"
      },
      "execution_count": 33,
      "outputs": [
        {
          "output_type": "execute_result",
          "data": {
            "text/plain": [
              "   workers          company     state_l       growth    revenue  \\\n",
              "0      227             Fuhu  California  158956.9106  195640000   \n",
              "1      191  Quest Nutrition  California   57347.9246   82640563   \n",
              "\n",
              "                       industry  Revenue (in millions)  Revenue_million  \\\n",
              "0  Consumer Products & Services             195.640000           195.64   \n",
              "1               Food & Beverage              82.640563            82.64   \n",
              "\n",
              "     Growth  \n",
              "0  158957.0  \n",
              "1   57348.0  "
            ],
            "text/html": [
              "\n",
              "  <div id=\"df-d7ac155e-69c5-4bb7-a4a5-2fece3f252d9\">\n",
              "    <div class=\"colab-df-container\">\n",
              "      <div>\n",
              "<style scoped>\n",
              "    .dataframe tbody tr th:only-of-type {\n",
              "        vertical-align: middle;\n",
              "    }\n",
              "\n",
              "    .dataframe tbody tr th {\n",
              "        vertical-align: top;\n",
              "    }\n",
              "\n",
              "    .dataframe thead th {\n",
              "        text-align: right;\n",
              "    }\n",
              "</style>\n",
              "<table border=\"1\" class=\"dataframe\">\n",
              "  <thead>\n",
              "    <tr style=\"text-align: right;\">\n",
              "      <th></th>\n",
              "      <th>workers</th>\n",
              "      <th>company</th>\n",
              "      <th>state_l</th>\n",
              "      <th>growth</th>\n",
              "      <th>revenue</th>\n",
              "      <th>industry</th>\n",
              "      <th>Revenue (in millions)</th>\n",
              "      <th>Revenue_million</th>\n",
              "      <th>Growth</th>\n",
              "    </tr>\n",
              "  </thead>\n",
              "  <tbody>\n",
              "    <tr>\n",
              "      <th>0</th>\n",
              "      <td>227</td>\n",
              "      <td>Fuhu</td>\n",
              "      <td>California</td>\n",
              "      <td>158956.9106</td>\n",
              "      <td>195640000</td>\n",
              "      <td>Consumer Products &amp; Services</td>\n",
              "      <td>195.640000</td>\n",
              "      <td>195.64</td>\n",
              "      <td>158957.0</td>\n",
              "    </tr>\n",
              "    <tr>\n",
              "      <th>1</th>\n",
              "      <td>191</td>\n",
              "      <td>Quest Nutrition</td>\n",
              "      <td>California</td>\n",
              "      <td>57347.9246</td>\n",
              "      <td>82640563</td>\n",
              "      <td>Food &amp; Beverage</td>\n",
              "      <td>82.640563</td>\n",
              "      <td>82.64</td>\n",
              "      <td>57348.0</td>\n",
              "    </tr>\n",
              "  </tbody>\n",
              "</table>\n",
              "</div>\n",
              "      <button class=\"colab-df-convert\" onclick=\"convertToInteractive('df-d7ac155e-69c5-4bb7-a4a5-2fece3f252d9')\"\n",
              "              title=\"Convert this dataframe to an interactive table.\"\n",
              "              style=\"display:none;\">\n",
              "        \n",
              "  <svg xmlns=\"http://www.w3.org/2000/svg\" height=\"24px\"viewBox=\"0 0 24 24\"\n",
              "       width=\"24px\">\n",
              "    <path d=\"M0 0h24v24H0V0z\" fill=\"none\"/>\n",
              "    <path d=\"M18.56 5.44l.94 2.06.94-2.06 2.06-.94-2.06-.94-.94-2.06-.94 2.06-2.06.94zm-11 1L8.5 8.5l.94-2.06 2.06-.94-2.06-.94L8.5 2.5l-.94 2.06-2.06.94zm10 10l.94 2.06.94-2.06 2.06-.94-2.06-.94-.94-2.06-.94 2.06-2.06.94z\"/><path d=\"M17.41 7.96l-1.37-1.37c-.4-.4-.92-.59-1.43-.59-.52 0-1.04.2-1.43.59L10.3 9.45l-7.72 7.72c-.78.78-.78 2.05 0 2.83L4 21.41c.39.39.9.59 1.41.59.51 0 1.02-.2 1.41-.59l7.78-7.78 2.81-2.81c.8-.78.8-2.07 0-2.86zM5.41 20L4 18.59l7.72-7.72 1.47 1.35L5.41 20z\"/>\n",
              "  </svg>\n",
              "      </button>\n",
              "      \n",
              "  <style>\n",
              "    .colab-df-container {\n",
              "      display:flex;\n",
              "      flex-wrap:wrap;\n",
              "      gap: 12px;\n",
              "    }\n",
              "\n",
              "    .colab-df-convert {\n",
              "      background-color: #E8F0FE;\n",
              "      border: none;\n",
              "      border-radius: 50%;\n",
              "      cursor: pointer;\n",
              "      display: none;\n",
              "      fill: #1967D2;\n",
              "      height: 32px;\n",
              "      padding: 0 0 0 0;\n",
              "      width: 32px;\n",
              "    }\n",
              "\n",
              "    .colab-df-convert:hover {\n",
              "      background-color: #E2EBFA;\n",
              "      box-shadow: 0px 1px 2px rgba(60, 64, 67, 0.3), 0px 1px 3px 1px rgba(60, 64, 67, 0.15);\n",
              "      fill: #174EA6;\n",
              "    }\n",
              "\n",
              "    [theme=dark] .colab-df-convert {\n",
              "      background-color: #3B4455;\n",
              "      fill: #D2E3FC;\n",
              "    }\n",
              "\n",
              "    [theme=dark] .colab-df-convert:hover {\n",
              "      background-color: #434B5C;\n",
              "      box-shadow: 0px 1px 3px 1px rgba(0, 0, 0, 0.15);\n",
              "      filter: drop-shadow(0px 1px 2px rgba(0, 0, 0, 0.3));\n",
              "      fill: #FFFFFF;\n",
              "    }\n",
              "  </style>\n",
              "\n",
              "      <script>\n",
              "        const buttonEl =\n",
              "          document.querySelector('#df-d7ac155e-69c5-4bb7-a4a5-2fece3f252d9 button.colab-df-convert');\n",
              "        buttonEl.style.display =\n",
              "          google.colab.kernel.accessAllowed ? 'block' : 'none';\n",
              "\n",
              "        async function convertToInteractive(key) {\n",
              "          const element = document.querySelector('#df-d7ac155e-69c5-4bb7-a4a5-2fece3f252d9');\n",
              "          const dataTable =\n",
              "            await google.colab.kernel.invokeFunction('convertToInteractive',\n",
              "                                                     [key], {});\n",
              "          if (!dataTable) return;\n",
              "\n",
              "          const docLinkHtml = 'Like what you see? Visit the ' +\n",
              "            '<a target=\"_blank\" href=https://colab.research.google.com/notebooks/data_table.ipynb>data table notebook</a>'\n",
              "            + ' to learn more about interactive tables.';\n",
              "          element.innerHTML = '';\n",
              "          dataTable['output_type'] = 'display_data';\n",
              "          await google.colab.output.renderOutput(dataTable, element);\n",
              "          const docLink = document.createElement('div');\n",
              "          docLink.innerHTML = docLinkHtml;\n",
              "          element.appendChild(docLink);\n",
              "        }\n",
              "      </script>\n",
              "    </div>\n",
              "  </div>\n",
              "  "
            ]
          },
          "metadata": {},
          "execution_count": 33
        }
      ]
    },
    {
      "cell_type": "code",
      "source": [
        "#converting growth into percentage in new column\n",
        "Total=2582199.4611\n",
        "df['growth_percen']=df['Growth']*100/df['Growth'].sum()\n",
        "df['growth_percent']=df['growth_percen'].round(0)"
      ],
      "metadata": {
        "id": "AWyH_j4bVkxY"
      },
      "execution_count": 34,
      "outputs": []
    },
    {
      "cell_type": "code",
      "source": [
        "df.head(3)"
      ],
      "metadata": {
        "id": "Dg1jvpBDX9YU",
        "colab": {
          "base_uri": "https://localhost:8080/",
          "height": 257
        },
        "outputId": "5764ec23-e793-48cf-fa2e-31269014aaf0"
      },
      "execution_count": 35,
      "outputs": [
        {
          "output_type": "execute_result",
          "data": {
            "text/plain": [
              "   workers                   company     state_l       growth    revenue  \\\n",
              "0      227                      Fuhu  California  158956.9106  195640000   \n",
              "1      191           Quest Nutrition  California   57347.9246   82640563   \n",
              "2      145  Reliant Asset Management    Virginia   55460.1646   85076502   \n",
              "\n",
              "                       industry  Revenue (in millions)  Revenue_million  \\\n",
              "0  Consumer Products & Services             195.640000           195.64   \n",
              "1               Food & Beverage              82.640563            82.64   \n",
              "2  Business Products & Services              85.076502            85.08   \n",
              "\n",
              "     Growth  growth_percen  growth_percent  \n",
              "0  158957.0       6.155865             6.0  \n",
              "1   57348.0       2.220893             2.0  \n",
              "2   55460.0       2.147778             2.0  "
            ],
            "text/html": [
              "\n",
              "  <div id=\"df-4e264dc8-cc9b-48bd-b8d9-5fa7541ca154\">\n",
              "    <div class=\"colab-df-container\">\n",
              "      <div>\n",
              "<style scoped>\n",
              "    .dataframe tbody tr th:only-of-type {\n",
              "        vertical-align: middle;\n",
              "    }\n",
              "\n",
              "    .dataframe tbody tr th {\n",
              "        vertical-align: top;\n",
              "    }\n",
              "\n",
              "    .dataframe thead th {\n",
              "        text-align: right;\n",
              "    }\n",
              "</style>\n",
              "<table border=\"1\" class=\"dataframe\">\n",
              "  <thead>\n",
              "    <tr style=\"text-align: right;\">\n",
              "      <th></th>\n",
              "      <th>workers</th>\n",
              "      <th>company</th>\n",
              "      <th>state_l</th>\n",
              "      <th>growth</th>\n",
              "      <th>revenue</th>\n",
              "      <th>industry</th>\n",
              "      <th>Revenue (in millions)</th>\n",
              "      <th>Revenue_million</th>\n",
              "      <th>Growth</th>\n",
              "      <th>growth_percen</th>\n",
              "      <th>growth_percent</th>\n",
              "    </tr>\n",
              "  </thead>\n",
              "  <tbody>\n",
              "    <tr>\n",
              "      <th>0</th>\n",
              "      <td>227</td>\n",
              "      <td>Fuhu</td>\n",
              "      <td>California</td>\n",
              "      <td>158956.9106</td>\n",
              "      <td>195640000</td>\n",
              "      <td>Consumer Products &amp; Services</td>\n",
              "      <td>195.640000</td>\n",
              "      <td>195.64</td>\n",
              "      <td>158957.0</td>\n",
              "      <td>6.155865</td>\n",
              "      <td>6.0</td>\n",
              "    </tr>\n",
              "    <tr>\n",
              "      <th>1</th>\n",
              "      <td>191</td>\n",
              "      <td>Quest Nutrition</td>\n",
              "      <td>California</td>\n",
              "      <td>57347.9246</td>\n",
              "      <td>82640563</td>\n",
              "      <td>Food &amp; Beverage</td>\n",
              "      <td>82.640563</td>\n",
              "      <td>82.64</td>\n",
              "      <td>57348.0</td>\n",
              "      <td>2.220893</td>\n",
              "      <td>2.0</td>\n",
              "    </tr>\n",
              "    <tr>\n",
              "      <th>2</th>\n",
              "      <td>145</td>\n",
              "      <td>Reliant Asset Management</td>\n",
              "      <td>Virginia</td>\n",
              "      <td>55460.1646</td>\n",
              "      <td>85076502</td>\n",
              "      <td>Business Products &amp; Services</td>\n",
              "      <td>85.076502</td>\n",
              "      <td>85.08</td>\n",
              "      <td>55460.0</td>\n",
              "      <td>2.147778</td>\n",
              "      <td>2.0</td>\n",
              "    </tr>\n",
              "  </tbody>\n",
              "</table>\n",
              "</div>\n",
              "      <button class=\"colab-df-convert\" onclick=\"convertToInteractive('df-4e264dc8-cc9b-48bd-b8d9-5fa7541ca154')\"\n",
              "              title=\"Convert this dataframe to an interactive table.\"\n",
              "              style=\"display:none;\">\n",
              "        \n",
              "  <svg xmlns=\"http://www.w3.org/2000/svg\" height=\"24px\"viewBox=\"0 0 24 24\"\n",
              "       width=\"24px\">\n",
              "    <path d=\"M0 0h24v24H0V0z\" fill=\"none\"/>\n",
              "    <path d=\"M18.56 5.44l.94 2.06.94-2.06 2.06-.94-2.06-.94-.94-2.06-.94 2.06-2.06.94zm-11 1L8.5 8.5l.94-2.06 2.06-.94-2.06-.94L8.5 2.5l-.94 2.06-2.06.94zm10 10l.94 2.06.94-2.06 2.06-.94-2.06-.94-.94-2.06-.94 2.06-2.06.94z\"/><path d=\"M17.41 7.96l-1.37-1.37c-.4-.4-.92-.59-1.43-.59-.52 0-1.04.2-1.43.59L10.3 9.45l-7.72 7.72c-.78.78-.78 2.05 0 2.83L4 21.41c.39.39.9.59 1.41.59.51 0 1.02-.2 1.41-.59l7.78-7.78 2.81-2.81c.8-.78.8-2.07 0-2.86zM5.41 20L4 18.59l7.72-7.72 1.47 1.35L5.41 20z\"/>\n",
              "  </svg>\n",
              "      </button>\n",
              "      \n",
              "  <style>\n",
              "    .colab-df-container {\n",
              "      display:flex;\n",
              "      flex-wrap:wrap;\n",
              "      gap: 12px;\n",
              "    }\n",
              "\n",
              "    .colab-df-convert {\n",
              "      background-color: #E8F0FE;\n",
              "      border: none;\n",
              "      border-radius: 50%;\n",
              "      cursor: pointer;\n",
              "      display: none;\n",
              "      fill: #1967D2;\n",
              "      height: 32px;\n",
              "      padding: 0 0 0 0;\n",
              "      width: 32px;\n",
              "    }\n",
              "\n",
              "    .colab-df-convert:hover {\n",
              "      background-color: #E2EBFA;\n",
              "      box-shadow: 0px 1px 2px rgba(60, 64, 67, 0.3), 0px 1px 3px 1px rgba(60, 64, 67, 0.15);\n",
              "      fill: #174EA6;\n",
              "    }\n",
              "\n",
              "    [theme=dark] .colab-df-convert {\n",
              "      background-color: #3B4455;\n",
              "      fill: #D2E3FC;\n",
              "    }\n",
              "\n",
              "    [theme=dark] .colab-df-convert:hover {\n",
              "      background-color: #434B5C;\n",
              "      box-shadow: 0px 1px 3px 1px rgba(0, 0, 0, 0.15);\n",
              "      filter: drop-shadow(0px 1px 2px rgba(0, 0, 0, 0.3));\n",
              "      fill: #FFFFFF;\n",
              "    }\n",
              "  </style>\n",
              "\n",
              "      <script>\n",
              "        const buttonEl =\n",
              "          document.querySelector('#df-4e264dc8-cc9b-48bd-b8d9-5fa7541ca154 button.colab-df-convert');\n",
              "        buttonEl.style.display =\n",
              "          google.colab.kernel.accessAllowed ? 'block' : 'none';\n",
              "\n",
              "        async function convertToInteractive(key) {\n",
              "          const element = document.querySelector('#df-4e264dc8-cc9b-48bd-b8d9-5fa7541ca154');\n",
              "          const dataTable =\n",
              "            await google.colab.kernel.invokeFunction('convertToInteractive',\n",
              "                                                     [key], {});\n",
              "          if (!dataTable) return;\n",
              "\n",
              "          const docLinkHtml = 'Like what you see? Visit the ' +\n",
              "            '<a target=\"_blank\" href=https://colab.research.google.com/notebooks/data_table.ipynb>data table notebook</a>'\n",
              "            + ' to learn more about interactive tables.';\n",
              "          element.innerHTML = '';\n",
              "          dataTable['output_type'] = 'display_data';\n",
              "          await google.colab.output.renderOutput(dataTable, element);\n",
              "          const docLink = document.createElement('div');\n",
              "          docLink.innerHTML = docLinkHtml;\n",
              "          element.appendChild(docLink);\n",
              "        }\n",
              "      </script>\n",
              "    </div>\n",
              "  </div>\n",
              "  "
            ]
          },
          "metadata": {},
          "execution_count": 35
        }
      ]
    },
    {
      "cell_type": "code",
      "source": [
        "#now we remove these columns relating to growth & revenue\n",
        "df=df.drop(['growth','revenue','Revenue (in millions)','Growth','growth_percen'],axis=1)"
      ],
      "metadata": {
        "id": "qZfy0jDgX-_V"
      },
      "execution_count": 36,
      "outputs": []
    },
    {
      "cell_type": "code",
      "source": [
        "#now we have revenue in millions and growth in percentage\n",
        "df.head(3)"
      ],
      "metadata": {
        "id": "v3cAE9Q7ZV0Z",
        "colab": {
          "base_uri": "https://localhost:8080/",
          "height": 143
        },
        "outputId": "c8971681-2271-4009-b684-490d7540a605"
      },
      "execution_count": 37,
      "outputs": [
        {
          "output_type": "execute_result",
          "data": {
            "text/plain": [
              "   workers                   company     state_l  \\\n",
              "0      227                      Fuhu  California   \n",
              "1      191           Quest Nutrition  California   \n",
              "2      145  Reliant Asset Management    Virginia   \n",
              "\n",
              "                       industry  Revenue_million  growth_percent  \n",
              "0  Consumer Products & Services           195.64             6.0  \n",
              "1               Food & Beverage            82.64             2.0  \n",
              "2  Business Products & Services            85.08             2.0  "
            ],
            "text/html": [
              "\n",
              "  <div id=\"df-f8a5941b-c6dc-4d97-8edb-60ed71f6d91f\">\n",
              "    <div class=\"colab-df-container\">\n",
              "      <div>\n",
              "<style scoped>\n",
              "    .dataframe tbody tr th:only-of-type {\n",
              "        vertical-align: middle;\n",
              "    }\n",
              "\n",
              "    .dataframe tbody tr th {\n",
              "        vertical-align: top;\n",
              "    }\n",
              "\n",
              "    .dataframe thead th {\n",
              "        text-align: right;\n",
              "    }\n",
              "</style>\n",
              "<table border=\"1\" class=\"dataframe\">\n",
              "  <thead>\n",
              "    <tr style=\"text-align: right;\">\n",
              "      <th></th>\n",
              "      <th>workers</th>\n",
              "      <th>company</th>\n",
              "      <th>state_l</th>\n",
              "      <th>industry</th>\n",
              "      <th>Revenue_million</th>\n",
              "      <th>growth_percent</th>\n",
              "    </tr>\n",
              "  </thead>\n",
              "  <tbody>\n",
              "    <tr>\n",
              "      <th>0</th>\n",
              "      <td>227</td>\n",
              "      <td>Fuhu</td>\n",
              "      <td>California</td>\n",
              "      <td>Consumer Products &amp; Services</td>\n",
              "      <td>195.64</td>\n",
              "      <td>6.0</td>\n",
              "    </tr>\n",
              "    <tr>\n",
              "      <th>1</th>\n",
              "      <td>191</td>\n",
              "      <td>Quest Nutrition</td>\n",
              "      <td>California</td>\n",
              "      <td>Food &amp; Beverage</td>\n",
              "      <td>82.64</td>\n",
              "      <td>2.0</td>\n",
              "    </tr>\n",
              "    <tr>\n",
              "      <th>2</th>\n",
              "      <td>145</td>\n",
              "      <td>Reliant Asset Management</td>\n",
              "      <td>Virginia</td>\n",
              "      <td>Business Products &amp; Services</td>\n",
              "      <td>85.08</td>\n",
              "      <td>2.0</td>\n",
              "    </tr>\n",
              "  </tbody>\n",
              "</table>\n",
              "</div>\n",
              "      <button class=\"colab-df-convert\" onclick=\"convertToInteractive('df-f8a5941b-c6dc-4d97-8edb-60ed71f6d91f')\"\n",
              "              title=\"Convert this dataframe to an interactive table.\"\n",
              "              style=\"display:none;\">\n",
              "        \n",
              "  <svg xmlns=\"http://www.w3.org/2000/svg\" height=\"24px\"viewBox=\"0 0 24 24\"\n",
              "       width=\"24px\">\n",
              "    <path d=\"M0 0h24v24H0V0z\" fill=\"none\"/>\n",
              "    <path d=\"M18.56 5.44l.94 2.06.94-2.06 2.06-.94-2.06-.94-.94-2.06-.94 2.06-2.06.94zm-11 1L8.5 8.5l.94-2.06 2.06-.94-2.06-.94L8.5 2.5l-.94 2.06-2.06.94zm10 10l.94 2.06.94-2.06 2.06-.94-2.06-.94-.94-2.06-.94 2.06-2.06.94z\"/><path d=\"M17.41 7.96l-1.37-1.37c-.4-.4-.92-.59-1.43-.59-.52 0-1.04.2-1.43.59L10.3 9.45l-7.72 7.72c-.78.78-.78 2.05 0 2.83L4 21.41c.39.39.9.59 1.41.59.51 0 1.02-.2 1.41-.59l7.78-7.78 2.81-2.81c.8-.78.8-2.07 0-2.86zM5.41 20L4 18.59l7.72-7.72 1.47 1.35L5.41 20z\"/>\n",
              "  </svg>\n",
              "      </button>\n",
              "      \n",
              "  <style>\n",
              "    .colab-df-container {\n",
              "      display:flex;\n",
              "      flex-wrap:wrap;\n",
              "      gap: 12px;\n",
              "    }\n",
              "\n",
              "    .colab-df-convert {\n",
              "      background-color: #E8F0FE;\n",
              "      border: none;\n",
              "      border-radius: 50%;\n",
              "      cursor: pointer;\n",
              "      display: none;\n",
              "      fill: #1967D2;\n",
              "      height: 32px;\n",
              "      padding: 0 0 0 0;\n",
              "      width: 32px;\n",
              "    }\n",
              "\n",
              "    .colab-df-convert:hover {\n",
              "      background-color: #E2EBFA;\n",
              "      box-shadow: 0px 1px 2px rgba(60, 64, 67, 0.3), 0px 1px 3px 1px rgba(60, 64, 67, 0.15);\n",
              "      fill: #174EA6;\n",
              "    }\n",
              "\n",
              "    [theme=dark] .colab-df-convert {\n",
              "      background-color: #3B4455;\n",
              "      fill: #D2E3FC;\n",
              "    }\n",
              "\n",
              "    [theme=dark] .colab-df-convert:hover {\n",
              "      background-color: #434B5C;\n",
              "      box-shadow: 0px 1px 3px 1px rgba(0, 0, 0, 0.15);\n",
              "      filter: drop-shadow(0px 1px 2px rgba(0, 0, 0, 0.3));\n",
              "      fill: #FFFFFF;\n",
              "    }\n",
              "  </style>\n",
              "\n",
              "      <script>\n",
              "        const buttonEl =\n",
              "          document.querySelector('#df-f8a5941b-c6dc-4d97-8edb-60ed71f6d91f button.colab-df-convert');\n",
              "        buttonEl.style.display =\n",
              "          google.colab.kernel.accessAllowed ? 'block' : 'none';\n",
              "\n",
              "        async function convertToInteractive(key) {\n",
              "          const element = document.querySelector('#df-f8a5941b-c6dc-4d97-8edb-60ed71f6d91f');\n",
              "          const dataTable =\n",
              "            await google.colab.kernel.invokeFunction('convertToInteractive',\n",
              "                                                     [key], {});\n",
              "          if (!dataTable) return;\n",
              "\n",
              "          const docLinkHtml = 'Like what you see? Visit the ' +\n",
              "            '<a target=\"_blank\" href=https://colab.research.google.com/notebooks/data_table.ipynb>data table notebook</a>'\n",
              "            + ' to learn more about interactive tables.';\n",
              "          element.innerHTML = '';\n",
              "          dataTable['output_type'] = 'display_data';\n",
              "          await google.colab.output.renderOutput(dataTable, element);\n",
              "          const docLink = document.createElement('div');\n",
              "          docLink.innerHTML = docLinkHtml;\n",
              "          element.appendChild(docLink);\n",
              "        }\n",
              "      </script>\n",
              "    </div>\n",
              "  </div>\n",
              "  "
            ]
          },
          "metadata": {},
          "execution_count": 37
        }
      ]
    },
    {
      "cell_type": "code",
      "source": [
        "sns.pairplot(data=df)\n",
        "# Here data is positively skewed."
      ],
      "metadata": {
        "id": "m4XOd5vAwOhA",
        "colab": {
          "base_uri": "https://localhost:8080/",
          "height": 567
        },
        "outputId": "89655f0b-865d-45c1-aaa0-1cee578f4cc8"
      },
      "execution_count": 38,
      "outputs": [
        {
          "output_type": "execute_result",
          "data": {
            "text/plain": [
              "<seaborn.axisgrid.PairGrid at 0x7fd7a5eafcd0>"
            ]
          },
          "metadata": {},
          "execution_count": 38
        },
        {
          "output_type": "display_data",
          "data": {
            "text/plain": [
              "<Figure size 540x540 with 12 Axes>"
            ],
            "image/png": "[encoded data removed]"
          },
          "metadata": {
            "needs_background": "light"
          }
        }
      ]
    },
    {
      "cell_type": "code",
      "source": [
        "sns.boxplot(data=df,x='workers',y='Revenue_million',hue='growth_percent')"
      ],
      "metadata": {
        "colab": {
          "base_uri": "https://localhost:8080/",
          "height": 296
        },
        "id": "H7DhN1Y8vqFm",
        "outputId": "cc0c42eb-1c84-49be-d67e-2269b8463891"
      },
      "execution_count": 52,
      "outputs": [
        {
          "output_type": "execute_result",
          "data": {
            "text/plain": [
              "<Axes: xlabel='workers', ylabel='Revenue_million'>"
            ]
          },
          "metadata": {},
          "execution_count": 52
        },
        {
          "output_type": "display_data",
          "data": {
            "text/plain": [
              "<Figure size 432x288 with 1 Axes>"
            ],
            "image/png": "[encoded data removed]"
          },
          "metadata": {
            "needs_background": "light"
          }
        }
      ]
    },
    {
      "cell_type": "code",
      "source": [
        "sns.scatterplot(data=df,x='workers',y='Revenue_million',hue='growth_percent')"
      ],
      "metadata": {
        "colab": {
          "base_uri": "https://localhost:8080/",
          "height": 296
        },
        "id": "u9Cjc_svv9mn",
        "outputId": "0f5127a4-d396-4076-df8e-0a17b8fe891b"
      },
      "execution_count": 51,
      "outputs": [
        {
          "output_type": "execute_result",
          "data": {
            "text/plain": [
              "<Axes: xlabel='workers', ylabel='Revenue_million'>"
            ]
          },
          "metadata": {},
          "execution_count": 51
        },
        {
          "output_type": "display_data",
          "data": {
            "text/plain": [
              "<Figure size 432x288 with 1 Axes>"
            ],
            "image/png": "[encoded data removed]"
          },
          "metadata": {
            "needs_background": "light"
          }
        }
      ]
    },
    {
      "cell_type": "code",
      "source": [
        "sns.barplot(data=df,x='workers',y='Revenue_million',hue='growth_percent')"
      ],
      "metadata": {
        "colab": {
          "base_uri": "https://localhost:8080/",
          "height": 296
        },
        "id": "jZut16APv799",
        "outputId": "9d257528-b37b-4f70-ea84-d92806bcc1b6"
      },
      "execution_count": 53,
      "outputs": [
        {
          "output_type": "execute_result",
          "data": {
            "text/plain": [
              "<Axes: xlabel='workers', ylabel='Revenue_million'>"
            ]
          },
          "metadata": {},
          "execution_count": 53
        },
        {
          "output_type": "display_data",
          "data": {
            "text/plain": [
              "<Figure size 432x288 with 1 Axes>"
            ],
            "image/png": "[encoded data removed]"
          },
          "metadata": {
            "needs_background": "light"
          }
        }
      ]
    },
    {
      "cell_type": "code",
      "source": [
        "df.skew()"
      ],
      "metadata": {
        "id": "WjThIYorwnky",
        "colab": {
          "base_uri": "https://localhost:8080/"
        },
        "outputId": "66235a00-e2f0-4ab4-af4e-d1daf5061c1a"
      },
      "execution_count": 39,
      "outputs": [
        {
          "output_type": "stream",
          "name": "stderr",
          "text": [
            "<ipython-input-39-9e0b1e29546f>:1: FutureWarning: Dropping of nuisance columns in DataFrame reductions (with 'numeric_only=None') is deprecated; in a future version this will raise TypeError.  Select only valid columns before calling the reduction.\n",
            "  df.skew()\n"
          ]
        },
        {
          "output_type": "execute_result",
          "data": {
            "text/plain": [
              "workers            19.835568\n",
              "Revenue_million    17.002108\n",
              "growth_percent     43.116406\n",
              "dtype: float64"
            ]
          },
          "metadata": {},
          "execution_count": 39
        }
      ]
    },
    {
      "cell_type": "markdown",
      "source": [
        "## Apply Statistical tests"
      ],
      "metadata": {
        "id": "Fy63B1JFRbeg"
      }
    },
    {
      "cell_type": "code",
      "source": [
        "from scipy.stats import mannwhitneyu\n"
      ],
      "metadata": {
        "id": "tSBtmj6Ur4vw"
      },
      "execution_count": 40,
      "outputs": []
    },
    {
      "cell_type": "code",
      "source": [
        "# apply the Mann-Whitney U test\n",
        "statistic, p_value = mannwhitneyu(df['Revenue_million'], df['growth_percent'])\n"
      ],
      "metadata": {
        "id": "73UJYbZXr4rG"
      },
      "execution_count": 41,
      "outputs": []
    },
    {
      "cell_type": "code",
      "source": [
        "# print the test results\n",
        "print(\"Mann-Whitney U statistic:\", statistic)\n",
        "print(\"p-value:\", p_value)"
      ],
      "metadata": {
        "id": "Y1eiF4Nlr4lU",
        "colab": {
          "base_uri": "https://localhost:8080/"
        },
        "outputId": "0949e62c-152f-43aa-9737-fcf4f1e7ce46"
      },
      "execution_count": 42,
      "outputs": [
        {
          "output_type": "stream",
          "name": "stdout",
          "text": [
            "Mann-Whitney U statistic: 24998410.5\n",
            "p-value: 0.0\n"
          ]
        }
      ]
    },
    {
      "cell_type": "code",
      "source": [
        "from scipy.stats import kruskal\n"
      ],
      "metadata": {
        "id": "8LVwIOkxuc_f"
      },
      "execution_count": 43,
      "outputs": []
    },
    {
      "cell_type": "code",
      "source": [
        "# apply the Kruskal-Wallis H test\n",
        "statistic, p_value = kruskal(df['Revenue_million'], df['growth_percent'])"
      ],
      "metadata": {
        "id": "YD4F0093r4ez"
      },
      "execution_count": 44,
      "outputs": []
    },
    {
      "cell_type": "code",
      "source": [
        "# print the test results\n",
        "print(\"Kruskal-Wallis H statistic:\", statistic)\n",
        "print(\"p-value:\", p_value)"
      ],
      "metadata": {
        "id": "aYkzht7cr4VO",
        "colab": {
          "base_uri": "https://localhost:8080/"
        },
        "outputId": "6f515e64-2406-420b-b781-a690117fc798"
      },
      "execution_count": 45,
      "outputs": [
        {
          "output_type": "stream",
          "name": "stdout",
          "text": [
            "Kruskal-Wallis H statistic: 8558.880311369532\n",
            "p-value: 0.0\n"
          ]
        }
      ]
    },
    {
      "cell_type": "markdown",
      "source": [
        "### According to these null hypothesis is zero in both above tests"
      ],
      "metadata": {
        "id": "guWSI65z3G1O"
      }
    },
    {
      "cell_type": "markdown",
      "source": [
        "# 2.1 • Design of a diagram showing relationships amongst the identified variables.\n"
      ],
      "metadata": {
        "id": "xKWkND1WxIpg"
      }
    },
    {
      "cell_type": "markdown",
      "source": [
        "# 2.1.1"
      ],
      "metadata": {
        "id": "rZZhmYNnxw0X"
      }
    },
    {
      "cell_type": "code",
      "source": [
        "df.corr()"
      ],
      "metadata": {
        "id": "0jSiJqIaxJyJ",
        "colab": {
          "base_uri": "https://localhost:8080/",
          "height": 143
        },
        "outputId": "6905072f-d4e8-41c2-e2c9-d169ca5f5fd2"
      },
      "execution_count": 46,
      "outputs": [
        {
          "output_type": "execute_result",
          "data": {
            "text/plain": [
              "                  workers  Revenue_million  growth_percent\n",
              "workers          1.000000         0.265699       -0.001804\n",
              "Revenue_million  0.265699         1.000000        0.012868\n",
              "growth_percent  -0.001804         0.012868        1.000000"
            ],
            "text/html": [
              "\n",
              "  <div id=\"df-913ae767-9d74-495a-9822-b552790e0d92\">\n",
              "    <div class=\"colab-df-container\">\n",
              "      <div>\n",
              "<style scoped>\n",
              "    .dataframe tbody tr th:only-of-type {\n",
              "        vertical-align: middle;\n",
              "    }\n",
              "\n",
              "    .dataframe tbody tr th {\n",
              "        vertical-align: top;\n",
              "    }\n",
              "\n",
              "    .dataframe thead th {\n",
              "        text-align: right;\n",
              "    }\n",
              "</style>\n",
              "<table border=\"1\" class=\"dataframe\">\n",
              "  <thead>\n",
              "    <tr style=\"text-align: right;\">\n",
              "      <th></th>\n",
              "      <th>workers</th>\n",
              "      <th>Revenue_million</th>\n",
              "      <th>growth_percent</th>\n",
              "    </tr>\n",
              "  </thead>\n",
              "  <tbody>\n",
              "    <tr>\n",
              "      <th>workers</th>\n",
              "      <td>1.000000</td>\n",
              "      <td>0.265699</td>\n",
              "      <td>-0.001804</td>\n",
              "    </tr>\n",
              "    <tr>\n",
              "      <th>Revenue_million</th>\n",
              "      <td>0.265699</td>\n",
              "      <td>1.000000</td>\n",
              "      <td>0.012868</td>\n",
              "    </tr>\n",
              "    <tr>\n",
              "      <th>growth_percent</th>\n",
              "      <td>-0.001804</td>\n",
              "      <td>0.012868</td>\n",
              "      <td>1.000000</td>\n",
              "    </tr>\n",
              "  </tbody>\n",
              "</table>\n",
              "</div>\n",
              "      <button class=\"colab-df-convert\" onclick=\"convertToInteractive('df-913ae767-9d74-495a-9822-b552790e0d92')\"\n",
              "              title=\"Convert this dataframe to an interactive table.\"\n",
              "              style=\"display:none;\">\n",
              "        \n",
              "  <svg xmlns=\"http://www.w3.org/2000/svg\" height=\"24px\"viewBox=\"0 0 24 24\"\n",
              "       width=\"24px\">\n",
              "    <path d=\"M0 0h24v24H0V0z\" fill=\"none\"/>\n",
              "    <path d=\"M18.56 5.44l.94 2.06.94-2.06 2.06-.94-2.06-.94-.94-2.06-.94 2.06-2.06.94zm-11 1L8.5 8.5l.94-2.06 2.06-.94-2.06-.94L8.5 2.5l-.94 2.06-2.06.94zm10 10l.94 2.06.94-2.06 2.06-.94-2.06-.94-.94-2.06-.94 2.06-2.06.94z\"/><path d=\"M17.41 7.96l-1.37-1.37c-.4-.4-.92-.59-1.43-.59-.52 0-1.04.2-1.43.59L10.3 9.45l-7.72 7.72c-.78.78-.78 2.05 0 2.83L4 21.41c.39.39.9.59 1.41.59.51 0 1.02-.2 1.41-.59l7.78-7.78 2.81-2.81c.8-.78.8-2.07 0-2.86zM5.41 20L4 18.59l7.72-7.72 1.47 1.35L5.41 20z\"/>\n",
              "  </svg>\n",
              "      </button>\n",
              "      \n",
              "  <style>\n",
              "    .colab-df-container {\n",
              "      display:flex;\n",
              "      flex-wrap:wrap;\n",
              "      gap: 12px;\n",
              "    }\n",
              "\n",
              "    .colab-df-convert {\n",
              "      background-color: #E8F0FE;\n",
              "      border: none;\n",
              "      border-radius: 50%;\n",
              "      cursor: pointer;\n",
              "      display: none;\n",
              "      fill: #1967D2;\n",
              "      height: 32px;\n",
              "      padding: 0 0 0 0;\n",
              "      width: 32px;\n",
              "    }\n",
              "\n",
              "    .colab-df-convert:hover {\n",
              "      background-color: #E2EBFA;\n",
              "      box-shadow: 0px 1px 2px rgba(60, 64, 67, 0.3), 0px 1px 3px 1px rgba(60, 64, 67, 0.15);\n",
              "      fill: #174EA6;\n",
              "    }\n",
              "\n",
              "    [theme=dark] .colab-df-convert {\n",
              "      background-color: #3B4455;\n",
              "      fill: #D2E3FC;\n",
              "    }\n",
              "\n",
              "    [theme=dark] .colab-df-convert:hover {\n",
              "      background-color: #434B5C;\n",
              "      box-shadow: 0px 1px 3px 1px rgba(0, 0, 0, 0.15);\n",
              "      filter: drop-shadow(0px 1px 2px rgba(0, 0, 0, 0.3));\n",
              "      fill: #FFFFFF;\n",
              "    }\n",
              "  </style>\n",
              "\n",
              "      <script>\n",
              "        const buttonEl =\n",
              "          document.querySelector('#df-913ae767-9d74-495a-9822-b552790e0d92 button.colab-df-convert');\n",
              "        buttonEl.style.display =\n",
              "          google.colab.kernel.accessAllowed ? 'block' : 'none';\n",
              "\n",
              "        async function convertToInteractive(key) {\n",
              "          const element = document.querySelector('#df-913ae767-9d74-495a-9822-b552790e0d92');\n",
              "          const dataTable =\n",
              "            await google.colab.kernel.invokeFunction('convertToInteractive',\n",
              "                                                     [key], {});\n",
              "          if (!dataTable) return;\n",
              "\n",
              "          const docLinkHtml = 'Like what you see? Visit the ' +\n",
              "            '<a target=\"_blank\" href=https://colab.research.google.com/notebooks/data_table.ipynb>data table notebook</a>'\n",
              "            + ' to learn more about interactive tables.';\n",
              "          element.innerHTML = '';\n",
              "          dataTable['output_type'] = 'display_data';\n",
              "          await google.colab.output.renderOutput(dataTable, element);\n",
              "          const docLink = document.createElement('div');\n",
              "          docLink.innerHTML = docLinkHtml;\n",
              "          element.appendChild(docLink);\n",
              "        }\n",
              "      </script>\n",
              "    </div>\n",
              "  </div>\n",
              "  "
            ]
          },
          "metadata": {},
          "execution_count": 46
        }
      ]
    },
    {
      "cell_type": "markdown",
      "source": [
        "# 2.1.2"
      ],
      "metadata": {
        "id": "A_pfqNfgxrIr"
      }
    },
    {
      "cell_type": "code",
      "source": [
        "sns.heatmap(df.corr())"
      ],
      "metadata": {
        "id": "cAhrApq7xcO6",
        "colab": {
          "base_uri": "https://localhost:8080/",
          "height": 287
        },
        "outputId": "5953b612-0059-474a-cfec-46d1a6236ad0"
      },
      "execution_count": 47,
      "outputs": [
        {
          "output_type": "execute_result",
          "data": {
            "text/plain": [
              "<Axes: >"
            ]
          },
          "metadata": {},
          "execution_count": 47
        },
        {
          "output_type": "display_data",
          "data": {
            "text/plain": [
              "<Figure size 432x288 with 2 Axes>"
            ],
            "image/png": "[encoded data removed]"
          },
          "metadata": {
            "needs_background": "light"
          }
        }
      ]
    },
    {
      "cell_type": "markdown",
      "source": [
        "# 2.1.3"
      ],
      "metadata": {
        "id": "Aa2J-ixjxoCt"
      }
    },
    {
      "cell_type": "code",
      "source": [
        "df[(df['state_l']=='California') & (df['Revenue_million']>=52.09)]"
      ],
      "metadata": {
        "id": "kBfUnM-Cxmn_",
        "colab": {
          "base_uri": "https://localhost:8080/",
          "height": 424
        },
        "outputId": "a374e9dc-192d-497e-e669-af406391d18b"
      },
      "execution_count": 48,
      "outputs": [
        {
          "output_type": "execute_result",
          "data": {
            "text/plain": [
              "      workers                            company     state_l  \\\n",
              "0         227                               Fuhu  California   \n",
              "1         191                    Quest Nutrition  California   \n",
              "16        436              American Solar Direct  California   \n",
              "108        37                         Apex Fuels  California   \n",
              "113        73                           AdColony  California   \n",
              "...       ...                                ...         ...   \n",
              "4706      160          Tempest Telecom Solutions  California   \n",
              "4709      780                             Yodlee  California   \n",
              "4776      650                           Neudesic  California   \n",
              "4794      102                  Entisys Solutions  California   \n",
              "4957      403  First California Mortgage Company  California   \n",
              "\n",
              "                          industry  Revenue_million  growth_percent  \n",
              "0     Consumer Products & Services           195.64             6.0  \n",
              "1                  Food & Beverage            82.64             2.0  \n",
              "16                          Energy            52.09             0.0  \n",
              "108                         Energy           134.57             0.0  \n",
              "113        Advertising & Marketing            52.78             0.0  \n",
              "...                            ...              ...             ...  \n",
              "4706            Telecommunications            57.45             0.0  \n",
              "4709            Financial Services            70.16             0.0  \n",
              "4776                   IT Services            80.39             0.0  \n",
              "4794                   IT Services            70.56             0.0  \n",
              "4957                   Real Estate            52.11             0.0  \n",
              "\n",
              "[90 rows x 6 columns]"
            ],
            "text/html": [
              "\n",
              "  <div id=\"df-5fa31e68-96e2-4f84-b275-a55327e73ced\">\n",
              "    <div class=\"colab-df-container\">\n",
              "      <div>\n",
              "<style scoped>\n",
              "    .dataframe tbody tr th:only-of-type {\n",
              "        vertical-align: middle;\n",
              "    }\n",
              "\n",
              "    .dataframe tbody tr th {\n",
              "        vertical-align: top;\n",
              "    }\n",
              "\n",
              "    .dataframe thead th {\n",
              "        text-align: right;\n",
              "    }\n",
              "</style>\n",
              "<table border=\"1\" class=\"dataframe\">\n",
              "  <thead>\n",
              "    <tr style=\"text-align: right;\">\n",
              "      <th></th>\n",
              "      <th>workers</th>\n",
              "      <th>company</th>\n",
              "      <th>state_l</th>\n",
              "      <th>industry</th>\n",
              "      <th>Revenue_million</th>\n",
              "      <th>growth_percent</th>\n",
              "    </tr>\n",
              "  </thead>\n",
              "  <tbody>\n",
              "    <tr>\n",
              "      <th>0</th>\n",
              "      <td>227</td>\n",
              "      <td>Fuhu</td>\n",
              "      <td>California</td>\n",
              "      <td>Consumer Products &amp; Services</td>\n",
              "      <td>195.64</td>\n",
              "      <td>6.0</td>\n",
              "    </tr>\n",
              "    <tr>\n",
              "      <th>1</th>\n",
              "      <td>191</td>\n",
              "      <td>Quest Nutrition</td>\n",
              "      <td>California</td>\n",
              "      <td>Food &amp; Beverage</td>\n",
              "      <td>82.64</td>\n",
              "      <td>2.0</td>\n",
              "    </tr>\n",
              "    <tr>\n",
              "      <th>16</th>\n",
              "      <td>436</td>\n",
              "      <td>American Solar Direct</td>\n",
              "      <td>California</td>\n",
              "      <td>Energy</td>\n",
              "      <td>52.09</td>\n",
              "      <td>0.0</td>\n",
              "    </tr>\n",
              "    <tr>\n",
              "      <th>108</th>\n",
              "      <td>37</td>\n",
              "      <td>Apex Fuels</td>\n",
              "      <td>California</td>\n",
              "      <td>Energy</td>\n",
              "      <td>134.57</td>\n",
              "      <td>0.0</td>\n",
              "    </tr>\n",
              "    <tr>\n",
              "      <th>113</th>\n",
              "      <td>73</td>\n",
              "      <td>AdColony</td>\n",
              "      <td>California</td>\n",
              "      <td>Advertising &amp; Marketing</td>\n",
              "      <td>52.78</td>\n",
              "      <td>0.0</td>\n",
              "    </tr>\n",
              "    <tr>\n",
              "      <th>...</th>\n",
              "      <td>...</td>\n",
              "      <td>...</td>\n",
              "      <td>...</td>\n",
              "      <td>...</td>\n",
              "      <td>...</td>\n",
              "      <td>...</td>\n",
              "    </tr>\n",
              "    <tr>\n",
              "      <th>4706</th>\n",
              "      <td>160</td>\n",
              "      <td>Tempest Telecom Solutions</td>\n",
              "      <td>California</td>\n",
              "      <td>Telecommunications</td>\n",
              "      <td>57.45</td>\n",
              "      <td>0.0</td>\n",
              "    </tr>\n",
              "    <tr>\n",
              "      <th>4709</th>\n",
              "      <td>780</td>\n",
              "      <td>Yodlee</td>\n",
              "      <td>California</td>\n",
              "      <td>Financial Services</td>\n",
              "      <td>70.16</td>\n",
              "      <td>0.0</td>\n",
              "    </tr>\n",
              "    <tr>\n",
              "      <th>4776</th>\n",
              "      <td>650</td>\n",
              "      <td>Neudesic</td>\n",
              "      <td>California</td>\n",
              "      <td>IT Services</td>\n",
              "      <td>80.39</td>\n",
              "      <td>0.0</td>\n",
              "    </tr>\n",
              "    <tr>\n",
              "      <th>4794</th>\n",
              "      <td>102</td>\n",
              "      <td>Entisys Solutions</td>\n",
              "      <td>California</td>\n",
              "      <td>IT Services</td>\n",
              "      <td>70.56</td>\n",
              "      <td>0.0</td>\n",
              "    </tr>\n",
              "    <tr>\n",
              "      <th>4957</th>\n",
              "      <td>403</td>\n",
              "      <td>First California Mortgage Company</td>\n",
              "      <td>California</td>\n",
              "      <td>Real Estate</td>\n",
              "      <td>52.11</td>\n",
              "      <td>0.0</td>\n",
              "    </tr>\n",
              "  </tbody>\n",
              "</table>\n",
              "<p>90 rows × 6 columns</p>\n",
              "</div>\n",
              "      <button class=\"colab-df-convert\" onclick=\"convertToInteractive('df-5fa31e68-96e2-4f84-b275-a55327e73ced')\"\n",
              "              title=\"Convert this dataframe to an interactive table.\"\n",
              "              style=\"display:none;\">\n",
              "        \n",
              "  <svg xmlns=\"http://www.w3.org/2000/svg\" height=\"24px\"viewBox=\"0 0 24 24\"\n",
              "       width=\"24px\">\n",
              "    <path d=\"M0 0h24v24H0V0z\" fill=\"none\"/>\n",
              "    <path d=\"M18.56 5.44l.94 2.06.94-2.06 2.06-.94-2.06-.94-.94-2.06-.94 2.06-2.06.94zm-11 1L8.5 8.5l.94-2.06 2.06-.94-2.06-.94L8.5 2.5l-.94 2.06-2.06.94zm10 10l.94 2.06.94-2.06 2.06-.94-2.06-.94-.94-2.06-.94 2.06-2.06.94z\"/><path d=\"M17.41 7.96l-1.37-1.37c-.4-.4-.92-.59-1.43-.59-.52 0-1.04.2-1.43.59L10.3 9.45l-7.72 7.72c-.78.78-.78 2.05 0 2.83L4 21.41c.39.39.9.59 1.41.59.51 0 1.02-.2 1.41-.59l7.78-7.78 2.81-2.81c.8-.78.8-2.07 0-2.86zM5.41 20L4 18.59l7.72-7.72 1.47 1.35L5.41 20z\"/>\n",
              "  </svg>\n",
              "      </button>\n",
              "      \n",
              "  <style>\n",
              "    .colab-df-container {\n",
              "      display:flex;\n",
              "      flex-wrap:wrap;\n",
              "      gap: 12px;\n",
              "    }\n",
              "\n",
              "    .colab-df-convert {\n",
              "      background-color: #E8F0FE;\n",
              "      border: none;\n",
              "      border-radius: 50%;\n",
              "      cursor: pointer;\n",
              "      display: none;\n",
              "      fill: #1967D2;\n",
              "      height: 32px;\n",
              "      padding: 0 0 0 0;\n",
              "      width: 32px;\n",
              "    }\n",
              "\n",
              "    .colab-df-convert:hover {\n",
              "      background-color: #E2EBFA;\n",
              "      box-shadow: 0px 1px 2px rgba(60, 64, 67, 0.3), 0px 1px 3px 1px rgba(60, 64, 67, 0.15);\n",
              "      fill: #174EA6;\n",
              "    }\n",
              "\n",
              "    [theme=dark] .colab-df-convert {\n",
              "      background-color: #3B4455;\n",
              "      fill: #D2E3FC;\n",
              "    }\n",
              "\n",
              "    [theme=dark] .colab-df-convert:hover {\n",
              "      background-color: #434B5C;\n",
              "      box-shadow: 0px 1px 3px 1px rgba(0, 0, 0, 0.15);\n",
              "      filter: drop-shadow(0px 1px 2px rgba(0, 0, 0, 0.3));\n",
              "      fill: #FFFFFF;\n",
              "    }\n",
              "  </style>\n",
              "\n",
              "      <script>\n",
              "        const buttonEl =\n",
              "          document.querySelector('#df-5fa31e68-96e2-4f84-b275-a55327e73ced button.colab-df-convert');\n",
              "        buttonEl.style.display =\n",
              "          google.colab.kernel.accessAllowed ? 'block' : 'none';\n",
              "\n",
              "        async function convertToInteractive(key) {\n",
              "          const element = document.querySelector('#df-5fa31e68-96e2-4f84-b275-a55327e73ced');\n",
              "          const dataTable =\n",
              "            await google.colab.kernel.invokeFunction('convertToInteractive',\n",
              "                                                     [key], {});\n",
              "          if (!dataTable) return;\n",
              "\n",
              "          const docLinkHtml = 'Like what you see? Visit the ' +\n",
              "            '<a target=\"_blank\" href=https://colab.research.google.com/notebooks/data_table.ipynb>data table notebook</a>'\n",
              "            + ' to learn more about interactive tables.';\n",
              "          element.innerHTML = '';\n",
              "          dataTable['output_type'] = 'display_data';\n",
              "          await google.colab.output.renderOutput(dataTable, element);\n",
              "          const docLink = document.createElement('div');\n",
              "          docLink.innerHTML = docLinkHtml;\n",
              "          element.appendChild(docLink);\n",
              "        }\n",
              "      </script>\n",
              "    </div>\n",
              "  </div>\n",
              "  "
            ]
          },
          "metadata": {},
          "execution_count": 48
        }
      ]
    }
  ],
  "metadata": {
    "colab": {
      "provenance": []
    },
    "kernelspec": {
      "display_name": "Python 3",
      "name": "python3"
    },
    "language_info": {
      "name": "python"
    }
  },
  "nbformat": 4,
  "nbformat_minor": 0
}